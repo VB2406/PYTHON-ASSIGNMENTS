{
 "cells": [
  {
   "cell_type": "markdown",
   "id": "8529b9f8",
   "metadata": {},
   "source": [
    "1. Reverse a given list in Python\n",
    "aList = [100, 200, 300, 400, 500]\n",
    "output:\n",
    "[500, 400, 300, 200, 100]"
   ]
  },
  {
   "cell_type": "code",
   "execution_count": 1,
   "id": "05efb4b9",
   "metadata": {},
   "outputs": [
    {
     "data": {
      "text/plain": [
       "[500, 400, 300, 200, 100]"
      ]
     },
     "execution_count": 1,
     "metadata": {},
     "output_type": "execute_result"
    }
   ],
   "source": [
    "aList = [100, 200, 300, 400, 500]\n",
    "aList[::-1]"
   ]
  },
  {
   "cell_type": "markdown",
   "id": "05607d4a",
   "metadata": {},
   "source": [
    "2. take a list 'l1' of even nos between 150 to 250. Print its length.\n",
    "Then create another list 'l2' using 'l1', containing only nos divisible by 4 from 'l1'."
   ]
  },
  {
   "cell_type": "code",
   "execution_count": 5,
   "id": "c973afb6",
   "metadata": {},
   "outputs": [
    {
     "name": "stdout",
     "output_type": "stream",
     "text": [
      "[152, 156, 160, 164, 168, 172, 176, 180, 184, 188, 192, 196, 200, 204, 208, 212, 216, 220, 224, 228, 232, 236, 240, 244, 248]\n"
     ]
    }
   ],
   "source": [
    "l1=[i for i in range(150,251,2)]\n",
    "l2=[j for j in l1 if j%4==0]\n",
    "print(l2)"
   ]
  },
  {
   "cell_type": "markdown",
   "id": "7417875e",
   "metadata": {},
   "source": [
    "3. Given a Python list of numbers. Turn every item of a list into its square root\n",
    "aList = [1, 4, 9, 16, 25, 36, 49] \n",
    "output:\n",
    "[1, 2, 3, 4, 5, 6, 7]"
   ]
  },
  {
   "cell_type": "code",
   "execution_count": 9,
   "id": "541bb966",
   "metadata": {},
   "outputs": [
    {
     "name": "stdout",
     "output_type": "stream",
     "text": [
      "[1, 2, 3, 4, 5, 6, 7]\n"
     ]
    }
   ],
   "source": [
    "import math\n",
    "aList = [1, 4, 9, 16, 25, 36, 49]\n",
    "l2=[int(math.sqrt(element)) for element in aList]\n",
    "print(l2)"
   ]
  },
  {
   "cell_type": "markdown",
   "id": "85cc2330",
   "metadata": {},
   "source": [
    "4. Print two lists in the following order\n",
    "list1 = [5, 6,7]\n",
    "list2 = [0, 1]\n",
    "output:\n",
    "50,51,60,61,70,71"
   ]
  },
  {
   "cell_type": "code",
   "execution_count": 21,
   "id": "50fa2c94",
   "metadata": {},
   "outputs": [
    {
     "data": {
      "text/plain": [
       "[50, 51, 60, 61, 70, 71]"
      ]
     },
     "execution_count": 21,
     "metadata": {},
     "output_type": "execute_result"
    }
   ],
   "source": [
    "l1 = [5, 6,7]\n",
    "l2 = [0, 1]\n",
    "l3=[]\n",
    "for i in range(len(l1)):\n",
    "    for j in range(len(l2)):\n",
    "        l3.append(int(str(l1[i])+str(l2[j])))\n",
    "l3"
   ]
  },
  {
   "cell_type": "markdown",
   "id": "670c2751",
   "metadata": {},
   "source": [
    "5. Given a two Python list. Iterate both lists simultaneously such that list1 should display item in original order and list2 in reverse order. It should work for any two lists.\n",
    "list1 = [10, 20, 30, 40]\n",
    "list2 = [100, 200, 300, 400]\n",
    "output:\n",
    "10 400\n",
    "20 300\n",
    "30 200\n",
    "40 100"
   ]
  },
  {
   "cell_type": "code",
   "execution_count": 28,
   "id": "4da076d5",
   "metadata": {},
   "outputs": [
    {
     "name": "stdout",
     "output_type": "stream",
     "text": [
      "10 400\n",
      "20 300\n",
      "30 200\n",
      "40 100\n"
     ]
    }
   ],
   "source": [
    "l1 = [10, 20, 30, 40]\n",
    "l2 = [100, 200, 300, 400]\n",
    "l3 = l2[::-1]\n",
    "for e1,e2 in zip(l1,l3):\n",
    "    print(e1,e2)"
   ]
  },
  {
   "cell_type": "markdown",
   "id": "fffae654",
   "metadata": {},
   "source": [
    "6. Remove empty strings from the list of strings\n",
    "list1 = [\"Ashish\", \"\", \"Atharva\", \"Amit\", \"\", \"Revati\"]\n",
    "output:\n",
    "[\"Ashish\", \"Atharva\", \"Amit\", \"Revati\"]"
   ]
  },
  {
   "cell_type": "code",
   "execution_count": 8,
   "id": "c2855c95",
   "metadata": {},
   "outputs": [
    {
     "name": "stdout",
     "output_type": "stream",
     "text": [
      "['Ashish', 'Atharva', 'Amit', 'Revati']\n"
     ]
    }
   ],
   "source": [
    "list1 = [\"Ashish\", \"\", \"Atharva\", \"Amit\", \"\", \"Revati\"]\n",
    "#list1.remove(\"\")\n",
    "for element in list1:\n",
    "    if element == \"\":\n",
    "        #del list1[element]\n",
    "        list1.remove(\"\")\n",
    "print(list1)"
   ]
  },
  {
   "cell_type": "markdown",
   "id": "4305d050",
   "metadata": {},
   "source": [
    "7. Add item 7000 after 6000 in the following Python List\n",
    "list1 = [10, 20, [300, 400, [5000, 6000], 500], 30, 40]\n",
    "output:\n",
    "[10, 20, [300, 400, [5000, 6000, 7000], 500], 30, 40]\n",
    "\n"
   ]
  },
  {
   "cell_type": "code",
   "execution_count": 20,
   "id": "20f72547",
   "metadata": {},
   "outputs": [
    {
     "name": "stdout",
     "output_type": "stream",
     "text": [
      "[10, 20, [300, 400, [5000, 6000, 700], 500], 30, 40]\n"
     ]
    }
   ],
   "source": [
    "l1 = [10, 20, [300, 400, [5000, 6000], 500], 30, 40]\n",
    "l1[2][2].insert(2,700)\n",
    "print(l1)"
   ]
  },
  {
   "cell_type": "markdown",
   "id": "e346d112",
   "metadata": {},
   "source": [
    "8. Given a nested list extend it by adding the sub list [\"h\", \"i\", \"j\"] in such a way that it will look like the following list:\n",
    "list1 = [\"a\", \"b\", [\"c\", [\"d\", \"e\", [\"f\", \"g\"], \"k\"], \"l\"], \"m\", \"n\"]\n",
    "Sub List to be added = [\"h\", \"i\", \"j\"]\n",
    "output:\n",
    "['a', 'b', ['c', ['d', 'e', ['f', 'g', 'h', 'i', 'j'], 'k'], 'l'], 'm', 'n']"
   ]
  },
  {
   "cell_type": "code",
   "execution_count": 9,
   "id": "1c63aeb0",
   "metadata": {},
   "outputs": [
    {
     "name": "stdout",
     "output_type": "stream",
     "text": [
      "['a', 'b', ['c', ['d', 'e', ['f', 'g', 'h', 'i', 'j'], 'k'], 'l'], 'm', 'n']\n"
     ]
    }
   ],
   "source": [
    "list1 = [\"a\", \"b\", [\"c\", [\"d\", \"e\", [\"f\", \"g\"], \"k\"], \"l\"], \"m\", \"n\"]\n",
    "subList = [\"h\", \"i\", \"j\"]\n",
    "list1[2][1][2].extend(subList)\n",
    "print(list1)"
   ]
  },
  {
   "cell_type": "markdown",
   "id": "55262dfb",
   "metadata": {},
   "source": [
    "9. Given a Python list, find value 20 in the list, and if it is present, replace it with 200. Only update the first occurrence of a value\n",
    "list1 = [5, 10, 15, 20, 25, 50, 20]\n",
    "output:\n",
    "list1 = [5, 10, 15, 200, 25, 50, 20]"
   ]
  },
  {
   "cell_type": "code",
   "execution_count": 14,
   "id": "c7f985ad",
   "metadata": {},
   "outputs": [
    {
     "name": "stdout",
     "output_type": "stream",
     "text": [
      "[5, 10, 15, 200, 25, 50, 20]\n"
     ]
    }
   ],
   "source": [
    "list1 = [5, 10, 15, 20, 25, 50, 20]\n",
    "for i in range(len(list1)):\n",
    "    if list1[i] == 20:\n",
    "        list1[i] = 200\n",
    "        break\n",
    "print(list1)"
   ]
  },
  {
   "cell_type": "markdown",
   "id": "30f6253e",
   "metadata": {},
   "source": [
    "10. Given a Python list, remove all occurrence of 20 from the list\n",
    "list1 = [5, 20, 15, 20, 25, 50, 20]\n",
    "output:\n",
    "[5, 15, 25, 50]"
   ]
  },
  {
   "cell_type": "code",
   "execution_count": 25,
   "id": "5239ddb1",
   "metadata": {},
   "outputs": [
    {
     "name": "stdout",
     "output_type": "stream",
     "text": [
      "[5, 15, 25, 50]\n"
     ]
    }
   ],
   "source": [
    "l1 = [5, 20, 15, 20, 25, 50, 20]\n",
    "l2 = [l1.remove(20) for ele in l1 if ele==20]\n",
    "print(l1)"
   ]
  },
  {
   "cell_type": "markdown",
   "id": "50d244f7",
   "metadata": {},
   "source": [
    "11. Take a number as input from user. \n",
    "Print maximum and minimum integer which can be generated using all the digits in the input number\n",
    "Ex. Input 3421   : o/p max: 4321, min 1234\n",
    "Input 7789    : o/p max: 9776   min 6779"
   ]
  },
  {
   "cell_type": "code",
   "execution_count": 35,
   "id": "24f9a8dc",
   "metadata": {},
   "outputs": [
    {
     "name": "stdout",
     "output_type": "stream",
     "text": [
      "Enter a number :14576324\n",
      "Max 12344567\n",
      "Min 76544321\n"
     ]
    }
   ],
   "source": [
    "num=input(\"Enter a number :\")\n",
    "minimum=[*num]\n",
    "maximum=[*num]\n",
    "minimum.sort(reverse = True)\n",
    "maximum.sort()\n",
    "str1=''\n",
    "print(\"Max\", str1.join(maximum))\n",
    "print(\"Min\", str1.join(minimum))\n",
    "\n"
   ]
  },
  {
   "cell_type": "code",
   "execution_count": null,
   "id": "469e233f",
   "metadata": {},
   "outputs": [],
   "source": []
  },
  {
   "cell_type": "code",
   "execution_count": null,
   "id": "16f5b1ab",
   "metadata": {},
   "outputs": [],
   "source": []
  },
  {
   "cell_type": "markdown",
   "id": "aa4b4766",
   "metadata": {},
   "source": [
    "12. Take integer from user and print all odd numbers which can be generated using any number of digits from given number\n",
    "Ex. \n",
    "Input: 3421  o/p: 1,3,13,43,23,31,41,21,421,241,341,431,423,243,143,413,1243,1423,4213,4123, 2413,2143, .. etc"
   ]
  },
  {
   "cell_type": "code",
   "execution_count": 19,
   "id": "0f661ed9",
   "metadata": {},
   "outputs": [
    {
     "name": "stdout",
     "output_type": "stream",
     "text": [
      "Enter a number :3142\n",
      "['3', '1', '31', '13', '43', '41', '23', '21', '341', '321', '143', '123', '431', '413', '423', '421', '231', '213', '243', '241']\n"
     ]
    }
   ],
   "source": [
    "from itertools import permutations\n",
    "num=input(\"Enter a number :\")\n",
    "l1=[*num]\n",
    "str1=''\n",
    "l2=[]\n",
    "for i in range(1,len(l1)):\n",
    "    perm=permutations(l1,i)\n",
    "    for j in list(perm):\n",
    "        l2.append(str1.join(j))\n",
    "l3=[ele for ele in l2 if int(ele)%2!=0]\n",
    "print(l3)"
   ]
  },
  {
   "cell_type": "markdown",
   "id": "eba1e8ea",
   "metadata": {},
   "source": [
    "Q. What will be output of following and explain why?\n",
    "a. \n",
    "l1 = [ 0 , 1]\n",
    "x= l1[0]\n",
    "x, l1[x] = 1, 300\n",
    "print(l1)"
   ]
  },
  {
   "cell_type": "code",
   "execution_count": 27,
   "id": "706b5b1e",
   "metadata": {},
   "outputs": [
    {
     "name": "stdout",
     "output_type": "stream",
     "text": [
      "[0, 300]\n"
     ]
    }
   ],
   "source": [
    "l1 = [ 0 , 1]\n",
    "x= l1[0] #here x=0\n",
    "x, l1[x] = 1, 300 #here firstly x=1, then l1[1] became 300\n",
    "print(l1)"
   ]
  },
  {
   "cell_type": "code",
   "execution_count": 34,
   "id": "6ef95cc8",
   "metadata": {},
   "outputs": [
    {
     "name": "stdout",
     "output_type": "stream",
     "text": [
      "True\n"
     ]
    }
   ],
   "source": [
    "comp = [1, 2, ('aa', 'ab')]   < [1, 2, ('abc', 'a'),4] # in comp variable only tuples are compared and not list\n",
    "print(comp)"
   ]
  },
  {
   "cell_type": "code",
   "execution_count": null,
   "id": "d330b7fe",
   "metadata": {},
   "outputs": [],
   "source": []
  }
 ],
 "metadata": {
  "kernelspec": {
   "display_name": "Python 3 (ipykernel)",
   "language": "python",
   "name": "python3"
  },
  "language_info": {
   "codemirror_mode": {
    "name": "ipython",
    "version": 3
   },
   "file_extension": ".py",
   "mimetype": "text/x-python",
   "name": "python",
   "nbconvert_exporter": "python",
   "pygments_lexer": "ipython3",
   "version": "3.11.4"
  }
 },
 "nbformat": 4,
 "nbformat_minor": 5
}
