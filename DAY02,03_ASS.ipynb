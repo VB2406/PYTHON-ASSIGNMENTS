{
 "cells": [
  {
   "cell_type": "markdown",
   "id": "79b19aa2",
   "metadata": {
    "id": "79b19aa2"
   },
   "source": [
    "# Ans 1"
   ]
  },
  {
   "cell_type": "code",
   "execution_count": null,
   "id": "1c2c48f6",
   "metadata": {
    "id": "1c2c48f6",
    "outputId": "66c9539c-0d34-43bc-c133-a23a624fbe13"
   },
   "outputs": [
    {
     "name": "stdout",
     "output_type": "stream",
     "text": [
      "inf\n"
     ]
    }
   ],
   "source": [
    "print(1.5e200 *2.0e210)\n"
   ]
  },
  {
   "cell_type": "markdown",
   "id": "26c9f708",
   "metadata": {
    "id": "26c9f708"
   },
   "source": [
    "inf = infinity"
   ]
  },
  {
   "cell_type": "code",
   "execution_count": null,
   "id": "b8b66f94",
   "metadata": {
    "id": "b8b66f94",
    "outputId": "f428c3be-9b10-47d0-cd34-a6a6e349a84a"
   },
   "outputs": [
    {
     "name": "stdout",
     "output_type": "stream",
     "text": [
      "0.0\n"
     ]
    }
   ],
   "source": [
    "print(3.4e-320 / 1e100)"
   ]
  },
  {
   "cell_type": "markdown",
   "id": "0585cb11",
   "metadata": {
    "id": "0585cb11"
   },
   "source": [
    "# Ans 2"
   ]
  },
  {
   "cell_type": "code",
   "execution_count": null,
   "id": "69d81e4a",
   "metadata": {
    "id": "69d81e4a",
    "outputId": "f5ddd1ac-d80f-4ea3-b63e-411c5e5bfcb4"
   },
   "outputs": [
    {
     "name": "stdout",
     "output_type": "stream",
     "text": [
      "0.3333333333333333\n"
     ]
    }
   ],
   "source": [
    "print(1/3)"
   ]
  },
  {
   "cell_type": "code",
   "execution_count": null,
   "id": "1bbb9f20",
   "metadata": {
    "id": "1bbb9f20",
    "outputId": "5d82657f-53bd-44e3-8135-33823cce47bf"
   },
   "outputs": [
    {
     "name": "stdout",
     "output_type": "stream",
     "text": [
      "0.333\n"
     ]
    }
   ],
   "source": [
    "print(format(1/3, '.3f'))"
   ]
  },
  {
   "cell_type": "code",
   "execution_count": null,
   "id": "d76f92f1",
   "metadata": {
    "id": "d76f92f1",
    "outputId": "ae4569f0-f321-4378-bf6b-f57376ad17aa"
   },
   "outputs": [
    {
     "name": "stdout",
     "output_type": "stream",
     "text": [
      "0.3\n"
     ]
    }
   ],
   "source": [
    "print(format(1/3, '.1f'))"
   ]
  },
  {
   "cell_type": "code",
   "execution_count": null,
   "id": "69bd438c",
   "metadata": {
    "id": "69bd438c",
    "outputId": "7cbd1a53-ad12-447d-9c0b-81aaa6363587"
   },
   "outputs": [
    {
     "name": "stdout",
     "output_type": "stream",
     "text": [
      "2.0\n"
     ]
    }
   ],
   "source": [
    "print(6*1/3)"
   ]
  },
  {
   "cell_type": "code",
   "execution_count": null,
   "id": "bcc2e79a",
   "metadata": {
    "id": "bcc2e79a",
    "outputId": "a6e3d6fb-f4f6-4221-aea4-7855f8aba8d1"
   },
   "outputs": [
    {
     "name": "stdout",
     "output_type": "stream",
     "text": [
      "1.9999999999999998\n"
     ]
    }
   ],
   "source": [
    "print(1/3 + 1/3 + 1/3 + 1/3 + 1/3 + 1/3)"
   ]
  },
  {
   "cell_type": "markdown",
   "id": "f6322983",
   "metadata": {
    "id": "f6322983"
   },
   "source": [
    "# Ans 3"
   ]
  },
  {
   "cell_type": "markdown",
   "id": "219c2933",
   "metadata": {
    "id": "219c2933"
   },
   "source": [
    "Difference between a and b is :\n",
    "In a) value after decimal is printed till maximum value\n",
    "In b) we have asked to print till 3 decimal points using format specifier\n",
    "\n",
    "Difference between d and e is:\n",
    "In d) as per associativity rule 6 will be multiplied 1 and then the resultant number will be divided by 3\n",
    "But in e) as / and + has different associativity BODMAS rule is applied"
   ]
  },
  {
   "cell_type": "markdown",
   "id": "0976c89d",
   "metadata": {
    "id": "0976c89d"
   },
   "source": [
    "# Ans 4"
   ]
  },
  {
   "cell_type": "code",
   "execution_count": null,
   "id": "26c8b468",
   "metadata": {
    "id": "26c8b468",
    "outputId": "bb2e6b40-8aeb-4a30-abc2-28c1d710765b"
   },
   "outputs": [
    {
     "name": "stdout",
     "output_type": "stream",
     "text": [
      "3.14286\n"
     ]
    }
   ],
   "source": [
    "print(format(22/7, '.5f'))"
   ]
  },
  {
   "cell_type": "code",
   "execution_count": null,
   "id": "78c7dcf6",
   "metadata": {
    "id": "78c7dcf6",
    "outputId": "17d939fd-fb5f-45d6-cda4-7eadcfa18c86"
   },
   "outputs": [
    {
     "name": "stdout",
     "output_type": "stream",
     "text": [
      "Hello     \n"
     ]
    }
   ],
   "source": [
    "print(\"%-10s\" % ('Hello', ))"
   ]
  },
  {
   "cell_type": "code",
   "execution_count": null,
   "id": "c7c7fa27",
   "metadata": {
    "id": "c7c7fa27",
    "outputId": "07f366b5-e25d-4b70-853f-4e13720a5843"
   },
   "outputs": [
    {
     "name": "stdout",
     "output_type": "stream",
     "text": [
      "Hello     \n"
     ]
    }
   ],
   "source": [
    "print(format(\"Hello\", \"<10\"))"
   ]
  },
  {
   "cell_type": "code",
   "execution_count": null,
   "id": "21f8065e",
   "metadata": {
    "id": "21f8065e",
    "outputId": "d4c3729a-008b-4d5b-875b-52ce10a8349b",
    "scrolled": true
   },
   "outputs": [
    {
     "name": "stdout",
     "output_type": "stream",
     "text": [
      "     Hello\n"
     ]
    }
   ],
   "source": [
    "print(format(\"Hello\", \">10\"))"
   ]
  },
  {
   "cell_type": "code",
   "execution_count": null,
   "id": "05bda53e",
   "metadata": {
    "id": "05bda53e",
    "outputId": "9546dc79-c883-4f12-9cec-9ec88914a4b2"
   },
   "outputs": [
    {
     "name": "stdout",
     "output_type": "stream",
     "text": [
      "#####Hello#####\n"
     ]
    }
   ],
   "source": [
    "print(format(\"Hello\", \"#^15\"))"
   ]
  },
  {
   "cell_type": "markdown",
   "id": "cdcfb36c",
   "metadata": {
    "id": "cdcfb36c"
   },
   "source": [
    "# Ans 5"
   ]
  },
  {
   "cell_type": "code",
   "execution_count": null,
   "id": "b54b784d",
   "metadata": {
    "id": "b54b784d",
    "outputId": "da59fadc-c0af-4596-dfd7-b157fdbb1bc5"
   },
   "outputs": [
    {
     "name": "stdout",
     "output_type": "stream",
     "text": [
      "97\n",
      "65\n",
      "122\n",
      "90\n"
     ]
    }
   ],
   "source": [
    "print(ord('a'))\n",
    "print(ord('A'))\n",
    "print(ord('z'))\n",
    "print(ord('Z'))"
   ]
  },
  {
   "cell_type": "code",
   "execution_count": null,
   "id": "1dbc7e7e",
   "metadata": {
    "id": "1dbc7e7e",
    "outputId": "6a09236b-7619-4399-c22b-3e5846b8d417",
    "scrolled": true
   },
   "outputs": [
    {
     "name": "stdout",
     "output_type": "stream",
     "text": [
      "48\n",
      "57\n",
      "32\n",
      "10\n",
      "9\n"
     ]
    }
   ],
   "source": [
    "print(ord('0'))\n",
    "print(ord('9'))\n",
    "print(ord(' '))\n",
    "print(ord('\\n'))\n",
    "print(ord('\\t'))"
   ]
  },
  {
   "cell_type": "code",
   "execution_count": null,
   "id": "b568cc6f",
   "metadata": {
    "id": "b568cc6f",
    "outputId": "8538d415-3410-4992-f967-37d5c757f2ec"
   },
   "outputs": [
    {
     "name": "stdout",
     "output_type": "stream",
     "text": [
      "#\n",
      "C\n",
      "2\n",
      "c\n"
     ]
    }
   ],
   "source": [
    "print(chr(35))\n",
    "print(chr(67))\n",
    "print(chr(50))\n",
    "print(chr(99))"
   ]
  },
  {
   "cell_type": "markdown",
   "id": "3d935fe1",
   "metadata": {
    "id": "3d935fe1"
   },
   "source": [
    "For lower case : 97 - 122\n",
    "For upper case : 65 - 90\n",
    "For digits : 48 -57"
   ]
  },
  {
   "cell_type": "markdown",
   "id": "7b4928f9",
   "metadata": {
    "id": "7b4928f9"
   },
   "source": [
    "# Ans 6"
   ]
  },
  {
   "cell_type": "code",
   "execution_count": null,
   "id": "952734e1",
   "metadata": {
    "id": "952734e1",
    "outputId": "3e6adeb8-2ce8-4f1a-de86-adedeebea85c"
   },
   "outputs": [
    {
     "name": "stdout",
     "output_type": "stream",
     "text": [
      "abc \n",
      " bcd\n"
     ]
    }
   ],
   "source": [
    "print(\"abc\",\"\\n\",\"bcd\")"
   ]
  },
  {
   "cell_type": "code",
   "execution_count": null,
   "id": "1667143e",
   "metadata": {
    "id": "1667143e",
    "outputId": "3fd8c71b-18bf-410f-fd68-bb2166b676e1"
   },
   "outputs": [
    {
     "name": "stdout",
     "output_type": "stream",
     "text": [
      "abc\n",
      "bcd\n"
     ]
    }
   ],
   "source": [
    "print(\"abc\\nbcd\")"
   ]
  },
  {
   "cell_type": "code",
   "execution_count": null,
   "id": "e760d9e0",
   "metadata": {
    "id": "e760d9e0",
    "outputId": "bcdfad0d-27b5-4202-9206-5790daef7073"
   },
   "outputs": [
    {
     "name": "stdout",
     "output_type": "stream",
     "text": [
      "1 \n",
      " 2\n"
     ]
    }
   ],
   "source": [
    "print(1,'\\n',2)"
   ]
  },
  {
   "cell_type": "code",
   "execution_count": null,
   "id": "012335a7",
   "metadata": {
    "id": "012335a7",
    "outputId": "9d140580-6da2-4b19-fca3-835478f6e212"
   },
   "outputs": [
    {
     "name": "stdout",
     "output_type": "stream",
     "text": [
      "hello \n",
      "\n",
      "!!\n"
     ]
    }
   ],
   "source": [
    "print(\"hello \\n\\n!!\")"
   ]
  },
  {
   "cell_type": "code",
   "execution_count": null,
   "id": "49993fa7",
   "metadata": {
    "id": "49993fa7",
    "outputId": "78f4baff-9b9a-4e15-e3e1-0ab3099be0a3"
   },
   "outputs": [
    {
     "name": "stdout",
     "output_type": "stream",
     "text": [
      "This is '\t' means tab\n"
     ]
    }
   ],
   "source": [
    "print(\"This is '\\t' means tab\")"
   ]
  },
  {
   "cell_type": "markdown",
   "id": "a2209666",
   "metadata": {
    "id": "a2209666"
   },
   "source": [
    "4 spaces are printed using \\t"
   ]
  },
  {
   "cell_type": "code",
   "execution_count": null,
   "id": "4de94f02",
   "metadata": {
    "id": "4de94f02",
    "outputId": "00fb8ecb-9731-42b1-e439-c9c868a333a3"
   },
   "outputs": [
    {
     "name": "stdout",
     "output_type": "stream",
     "text": [
      "This\tis\tdifferent\n"
     ]
    }
   ],
   "source": [
    "print(\"This\",\"is\",\"different\",sep='\\t')"
   ]
  },
  {
   "cell_type": "code",
   "execution_count": null,
   "id": "aa4cb8f5",
   "metadata": {
    "id": "aa4cb8f5",
    "outputId": "cc2e4141-0cd5-4ecb-9e18-821e5a051f4c"
   },
   "outputs": [
    {
     "name": "stdout",
     "output_type": "stream",
     "text": [
      "This#is#different\n"
     ]
    }
   ],
   "source": [
    "print(\"This\",\"is\",\"different\",sep='#')"
   ]
  },
  {
   "cell_type": "code",
   "execution_count": null,
   "id": "ecc64b0b",
   "metadata": {
    "id": "ecc64b0b",
    "outputId": "3d5ec5bd-8d7f-43c0-a199-6be899bf47e9"
   },
   "outputs": [
    {
     "name": "stdout",
     "output_type": "stream",
     "text": [
      "This\n",
      "is\n",
      "different\n"
     ]
    }
   ],
   "source": [
    "print(\"This\",\"is\",\"different\",sep='\\n')"
   ]
  },
  {
   "cell_type": "code",
   "execution_count": null,
   "id": "98cd5b66",
   "metadata": {
    "id": "98cd5b66",
    "outputId": "00f0ba73-5733-46a9-c495-7b47e15b4760"
   },
   "outputs": [
    {
     "name": "stdout",
     "output_type": "stream",
     "text": [
      "This is different\n"
     ]
    }
   ],
   "source": [
    "print(\"This\",\"is\",\"different\",end='\\n')"
   ]
  },
  {
   "cell_type": "code",
   "execution_count": null,
   "id": "3f688945",
   "metadata": {
    "id": "3f688945",
    "outputId": "2631c86a-653e-4611-b610-41f9c38520af"
   },
   "outputs": [
    {
     "name": "stdout",
     "output_type": "stream",
     "text": [
      "5.0\n",
      "5.0\n",
      "33.666666666666664\n",
      "33\n",
      "2\n",
      "16\n",
      "9\n"
     ]
    }
   ],
   "source": [
    "print(10 / 2, 10 // 2.0, 101 / 3, 101 // 3, 101 % 3, 2 ** 4, 3 ** 2, sep=\"\\n\")"
   ]
  },
  {
   "cell_type": "code",
   "execution_count": null,
   "id": "74b08d34",
   "metadata": {
    "id": "74b08d34",
    "outputId": "100ce8a6-b8e7-4406-b355-aaf83e4e556f"
   },
   "outputs": [
    {
     "data": {
      "text/plain": [
       "10"
      ]
     },
     "execution_count": 61,
     "metadata": {},
     "output_type": "execute_result"
    }
   ],
   "source": [
    "abs(-10) # give absolute value"
   ]
  },
  {
   "cell_type": "code",
   "execution_count": null,
   "id": "e06644e3",
   "metadata": {
    "id": "e06644e3",
    "outputId": "b7c9a598-6bdb-490a-865e-768fe6d7a4a1"
   },
   "outputs": [
    {
     "data": {
      "text/plain": [
       "(33, 2)"
      ]
     },
     "execution_count": 62,
     "metadata": {},
     "output_type": "execute_result"
    }
   ],
   "source": [
    "divmod(101,3) # divmod gives two values , interger division and remainder"
   ]
  },
  {
   "cell_type": "code",
   "execution_count": null,
   "id": "8d7414b3",
   "metadata": {
    "id": "8d7414b3",
    "outputId": "220d1f06-658c-4057-860d-0edbfaf7d106"
   },
   "outputs": [
    {
     "name": "stdout",
     "output_type": "stream",
     "text": [
      "16\n"
     ]
    }
   ],
   "source": [
    "print(8 << 1) # 8 x 2^1"
   ]
  },
  {
   "cell_type": "code",
   "execution_count": null,
   "id": "58ea4490",
   "metadata": {
    "id": "58ea4490",
    "outputId": "f5ed0169-d8c3-46c3-93d6-75935686a167"
   },
   "outputs": [
    {
     "name": "stdout",
     "output_type": "stream",
     "text": [
      "32\n"
     ]
    }
   ],
   "source": [
    "print(8 << 2)"
   ]
  },
  {
   "cell_type": "code",
   "execution_count": null,
   "id": "8e836896",
   "metadata": {
    "id": "8e836896",
    "outputId": "c9f3c7a9-7d8a-4f65-b3f9-2d998ee53f63"
   },
   "outputs": [
    {
     "name": "stdout",
     "output_type": "stream",
     "text": [
      "8\n"
     ]
    }
   ],
   "source": [
    "print(32 >> 2) # 32 / 2^2"
   ]
  },
  {
   "cell_type": "code",
   "execution_count": null,
   "id": "70b68eac",
   "metadata": {
    "id": "70b68eac",
    "outputId": "904be2d1-3ae1-4e97-cb6b-c64d85c7b2c4"
   },
   "outputs": [
    {
     "name": "stdout",
     "output_type": "stream",
     "text": [
      "8\n"
     ]
    }
   ],
   "source": [
    "print(16 >> 1)"
   ]
  },
  {
   "cell_type": "markdown",
   "id": "036c1b8e",
   "metadata": {
    "id": "036c1b8e"
   },
   "source": [
    "# Ans 8"
   ]
  },
  {
   "cell_type": "code",
   "execution_count": null,
   "id": "f9e6cf36",
   "metadata": {
    "id": "f9e6cf36"
   },
   "outputs": [],
   "source": [
    "a,b,c = int(input(\"Enter marks : \").split())\n",
    "total = int(a) + int(b) + int(c)\n",
    "print(total)"
   ]
  },
  {
   "cell_type": "markdown",
   "id": "564dd05a",
   "metadata": {
    "id": "564dd05a"
   },
   "source": [
    "Q9. Manually calculate output of following expressions using precedence and associativity rules\n",
    "and then verify output using python shell\n",
    "a. 2 + 3 * (4 -1)\n",
    "b. 2 + ((3 *4) - 8)\n",
    "c. (2 + 3) * 4\n",
    "d. -10 + 25 / (16 + 12)\n",
    "e. 2 ** 2 ** 2\n",
    "f. (3 ** 2) ** 3\n",
    "g. x = y = 3 + 5\n",
    "h. 8/2*(2+2)"
   ]
  },
  {
   "cell_type": "code",
   "execution_count": null,
   "id": "96e787df",
   "metadata": {
    "id": "96e787df",
    "outputId": "b2ee9a19-7439-494d-93ed-57613518e1c0"
   },
   "outputs": [
    {
     "name": "stdout",
     "output_type": "stream",
     "text": [
      "11\n"
     ]
    }
   ],
   "source": [
    "print(2 + 3 * (4 -1))"
   ]
  },
  {
   "cell_type": "code",
   "execution_count": null,
   "id": "6940b55d",
   "metadata": {
    "id": "6940b55d",
    "outputId": "598f95b4-97db-4770-836f-cab8e328e288"
   },
   "outputs": [
    {
     "name": "stdout",
     "output_type": "stream",
     "text": [
      "6\n"
     ]
    }
   ],
   "source": [
    "print(2 + ((3 *4) - 8))"
   ]
  },
  {
   "cell_type": "code",
   "execution_count": null,
   "id": "82e7986a",
   "metadata": {
    "id": "82e7986a",
    "outputId": "cd98fe4f-ca99-4b68-c951-afd8aa1446fb"
   },
   "outputs": [
    {
     "name": "stdout",
     "output_type": "stream",
     "text": [
      "20\n"
     ]
    }
   ],
   "source": [
    "print((2 + 3) * 4)"
   ]
  },
  {
   "cell_type": "code",
   "execution_count": null,
   "id": "ea905f58",
   "metadata": {
    "id": "ea905f58",
    "outputId": "2f1fb9f0-a626-4e33-b8d7-5f5a5668d212"
   },
   "outputs": [
    {
     "name": "stdout",
     "output_type": "stream",
     "text": [
      "-9.107142857142858\n"
     ]
    }
   ],
   "source": [
    "print(-10 + 25 / (16 + 12))"
   ]
  },
  {
   "cell_type": "code",
   "execution_count": null,
   "id": "ba5a4b0b",
   "metadata": {
    "id": "ba5a4b0b",
    "outputId": "5af35633-8601-4991-93c8-59e62cdbc5b5"
   },
   "outputs": [
    {
     "name": "stdout",
     "output_type": "stream",
     "text": [
      "256\n"
     ]
    }
   ],
   "source": [
    "print(2 ** 2 ** 2)"
   ]
  },
  {
   "cell_type": "code",
   "execution_count": null,
   "id": "fac00bf9",
   "metadata": {
    "id": "fac00bf9",
    "outputId": "de82f4de-e5dc-472a-b7e1-7bb39b371212"
   },
   "outputs": [
    {
     "name": "stdout",
     "output_type": "stream",
     "text": [
      "729\n"
     ]
    }
   ],
   "source": [
    "print((3 ** 2) ** 3)"
   ]
  },
  {
   "cell_type": "code",
   "execution_count": null,
   "id": "951f0522",
   "metadata": {
    "id": "951f0522",
    "outputId": "366aa36d-c698-461c-d55f-16b127a8f589"
   },
   "outputs": [
    {
     "ename": "SyntaxError",
     "evalue": "invalid syntax (2559457631.py, line 1)",
     "output_type": "error",
     "traceback": [
      "\u001b[1;36m  Cell \u001b[1;32mIn[18], line 1\u001b[1;36m\u001b[0m\n\u001b[1;33m    print(x = y = 3 + 5)\u001b[0m\n\u001b[1;37m                ^\u001b[0m\n\u001b[1;31mSyntaxError\u001b[0m\u001b[1;31m:\u001b[0m invalid syntax\n"
     ]
    }
   ],
   "source": [
    "print(x = y = 3 + 5)"
   ]
  },
  {
   "cell_type": "code",
   "execution_count": null,
   "id": "4f0a9f1d",
   "metadata": {
    "id": "4f0a9f1d",
    "outputId": "71c64277-fdf2-4fd5-8cd1-f89e7c95aa2d"
   },
   "outputs": [
    {
     "name": "stdout",
     "output_type": "stream",
     "text": [
      "8\n",
      "8\n"
     ]
    }
   ],
   "source": [
    "x = y = 3 + 5\n",
    "print(x)\n",
    "print(y)\n"
   ]
  },
  {
   "cell_type": "code",
   "execution_count": null,
   "id": "d917ba56",
   "metadata": {
    "id": "d917ba56",
    "outputId": "4b1f9b60-ad65-4df8-b0d4-fa05b495d4fc",
    "scrolled": true
   },
   "outputs": [
    {
     "name": "stdout",
     "output_type": "stream",
     "text": [
      "16.0\n"
     ]
    }
   ],
   "source": [
    "print(8/2*(2+2))"
   ]
  },
  {
   "cell_type": "markdown",
   "id": "cd012984",
   "metadata": {
    "id": "cd012984"
   },
   "source": [
    "Q10. Check output of following\n",
    "a. x = y = 10\n",
    "b. x1 = 20 = y1"
   ]
  },
  {
   "cell_type": "code",
   "execution_count": null,
   "id": "dfd1831f",
   "metadata": {
    "id": "dfd1831f",
    "outputId": "5c954237-b7e1-432b-fae7-8f4c4d367462"
   },
   "outputs": [
    {
     "name": "stdout",
     "output_type": "stream",
     "text": [
      "10\n",
      "10\n"
     ]
    }
   ],
   "source": [
    "x = y = 10\n",
    "print(x)\n",
    "print(y)"
   ]
  },
  {
   "cell_type": "code",
   "execution_count": null,
   "id": "96799685",
   "metadata": {
    "id": "96799685",
    "outputId": "16bdf85b-657f-4ffa-b7a1-332a95500262"
   },
   "outputs": [
    {
     "ename": "SyntaxError",
     "evalue": "cannot assign to literal (1868644801.py, line 1)",
     "output_type": "error",
     "traceback": [
      "\u001b[1;36m  Cell \u001b[1;32mIn[27], line 1\u001b[1;36m\u001b[0m\n\u001b[1;33m    x1 = 20 = y1\u001b[0m\n\u001b[1;37m         ^\u001b[0m\n\u001b[1;31mSyntaxError\u001b[0m\u001b[1;31m:\u001b[0m cannot assign to literal\n"
     ]
    }
   ],
   "source": [
    "x1 = 20 = y1"
   ]
  },
  {
   "cell_type": "markdown",
   "id": "a17c12a4",
   "metadata": {
    "id": "a17c12a4"
   },
   "source": [
    "Q11. What is output of following\n",
    "a. x=10\n",
    "y=34.4\n",
    "print(x and y)\n",
    "print(x or y)"
   ]
  },
  {
   "cell_type": "code",
   "execution_count": null,
   "id": "3cffbce3",
   "metadata": {
    "id": "3cffbce3",
    "outputId": "d914d963-712a-4228-b9cc-dfdb04ad9046"
   },
   "outputs": [
    {
     "name": "stdout",
     "output_type": "stream",
     "text": [
      "34.4\n",
      "10\n"
     ]
    }
   ],
   "source": [
    "x=10\n",
    "y=34.4\n",
    "print(x and y)  #if x and y are true then print y else 0\n",
    "print(x or y)"
   ]
  },
  {
   "cell_type": "markdown",
   "id": "b5991192",
   "metadata": {
    "id": "b5991192"
   },
   "source": [
    "# IF ELSE"
   ]
  },
  {
   "cell_type": "markdown",
   "id": "39f25eb4",
   "metadata": {
    "id": "39f25eb4"
   },
   "source": [
    "1.\tA student will not be allowed to sit in exam if his/her attendence is less than 75%.  \n",
    "Take following input from user Number of classes held Number of classes attended. And print percentage of class attended  \n",
    "Is student is allowed to sit in exam or not."
   ]
  },
  {
   "cell_type": "code",
   "execution_count": null,
   "id": "cdffd08f",
   "metadata": {
    "id": "cdffd08f",
    "outputId": "3771841e-ac88-4701-923f-f8f946844e70"
   },
   "outputs": [
    {
     "name": "stdout",
     "output_type": "stream",
     "text": [
      "Enter number of classes held : 100\n",
      "Enter number of classes attended : 76\n",
      "Attendence percentage is :  76 %\n",
      "You are allowed to sit in the exam !!\n"
     ]
    }
   ],
   "source": [
    "import math\n",
    "class_held=int(input(\"Enter number of classes held : \"))\n",
    "class_att=int(input(\"Enter number of classes attended : \"))\n",
    "percentage=(class_att/class_held)*100\n",
    "print(\"Attendence percentage is : \",math.ceil(percentage), '%') #use math.ceil() to print value of nearest integer\n",
    "if percentage >= 75:\n",
    "    print(\"You are allowed to sit in the exam !!\")\n",
    "else:\n",
    "    print(\"You are not allowed to sit in the exam :( \")\n"
   ]
  },
  {
   "cell_type": "markdown",
   "id": "ef420493",
   "metadata": {
    "id": "ef420493"
   },
   "source": [
    "2. accept amount from user and find the minimum number notes required to get the amount amount =512  \n",
    "Notes: 2000,500,100,50,10,5,2,1  \n",
    "\n",
    "500-1 note  \n",
    "10  - 1 note  \n",
    "2-  1 coin  \n",
    "\n",
    "amount=20550  \n",
    "2000 – 10 note  \n",
    "500 – 1 note  \n",
    "50 -1 note"
   ]
  },
  {
   "cell_type": "code",
   "execution_count": null,
   "id": "15cf7c35",
   "metadata": {
    "id": "15cf7c35",
    "outputId": "243ee2af-7689-413c-f24b-13494bde5215"
   },
   "outputs": [
    {
     "name": "stdout",
     "output_type": "stream",
     "text": [
      "Enter your amount: 5668\n",
      "2000 notes:  2\n",
      "500 notes:  3\n",
      "100 notes:  1\n",
      "20 notes:  3\n",
      "5 notes:  1\n",
      "2 notes:  1\n",
      "1 notes:  1\n"
     ]
    }
   ],
   "source": [
    "amount=int(input(\"Enter your amount: \"))\n",
    "\n",
    "if (amount>=2000):\n",
    "    note2k=amount//2000\n",
    "    print(\"2000 notes: \", note2k)\n",
    "    rem=amount%2000\n",
    "    amount=rem\n",
    "if (2000>amount>=500):\n",
    "    note500=amount//500\n",
    "    print(\"500 notes: \", note500)\n",
    "    rem=amount%500\n",
    "    amount=rem\n",
    "if (500>amount>=200):\n",
    "    note200=amount//200\n",
    "    print(\"200 notes: \", note200)\n",
    "    rem=amount%200\n",
    "    amount=rem\n",
    "if (200>amount>=100):\n",
    "    note100=amount//100\n",
    "    print(\"100 notes: \", note100)\n",
    "    rem=amount%100\n",
    "    amount=rem\n",
    "\n",
    "if (100>amount>=20):\n",
    "    note20=amount//20\n",
    "    print(\"20 notes: \", note20)\n",
    "    rem=amount%20\n",
    "    amount=rem\n",
    "if (20>amount>=10):\n",
    "    note10=amount//10\n",
    "    print(\"10 notes: \", note10)\n",
    "    rem=amount%10\n",
    "    amount=rem\n",
    "if (10>amount>=5):\n",
    "    note5=amount//5\n",
    "    print(\"5 notes: \", note5)\n",
    "    rem=amount%5\n",
    "    amount=rem\n",
    "if (5>amount>=2):\n",
    "    note2=amount//2\n",
    "    print(\"2 notes: \", note2)\n",
    "    rem=amount%2\n",
    "    amount=rem\n",
    "if (2>amount>=1):\n",
    "    note1=amount//1\n",
    "    print(\"1 notes: \", note1)\n",
    "    rem=amount%1\n",
    "    amount=rem\n",
    "\n"
   ]
  },
  {
   "cell_type": "code",
   "execution_count": null,
   "id": "71e0da0e",
   "metadata": {
    "id": "71e0da0e",
    "outputId": "6d48113f-0a38-420f-9fb4-e430b56124ef"
   },
   "outputs": [
    {
     "name": "stdout",
     "output_type": "stream",
     "text": [
      "Enter your amount: 15423\n",
      "2000 notes:  7\n",
      "500 notes:  2\n",
      "100 notes:  4\n",
      "20 notes:  1\n",
      "2 notes:  1\n",
      "1 notes:  1\n"
     ]
    }
   ],
   "source": [
    "amount=int(input(\"Enter your amount: \"))\n",
    "arr=[2000,500,100,50,20,10,5,2,1]\n",
    "for i in arr:\n",
    "    if (amount>=i):\n",
    "        note=amount//i\n",
    "        print(\"{0} notes: \".format(i), note)\n",
    "        rem=amount%i\n",
    "        amount=rem\n",
    "#    print(i)"
   ]
  },
  {
   "cell_type": "markdown",
   "id": "749454fd",
   "metadata": {
    "id": "749454fd"
   },
   "source": [
    "3.\tModify the above question Q1 to allow student to sit if he/she has medical cause. Ask user if he/she has medical cause or not ( 'Y' or 'N' ) and print accordingly."
   ]
  },
  {
   "cell_type": "code",
   "execution_count": null,
   "id": "dfa7bd25",
   "metadata": {
    "id": "dfa7bd25",
    "outputId": "54531361-62eb-4785-8b23-6183f9d15aa7"
   },
   "outputs": [
    {
     "name": "stdout",
     "output_type": "stream",
     "text": [
      "Enter number of classes held : 100\n",
      "Enter number of classes attended : 65\n",
      "he/she has medical cause or not? ( 'Y' or 'N' )Y\n",
      "Attendence percentage is :  65 %\n",
      "You are allowed to sit in the exam !!\n"
     ]
    }
   ],
   "source": [
    "import math\n",
    "class_held=int(input(\"Enter number of classes held : \"))\n",
    "class_att=int(input(\"Enter number of classes attended : \"))\n",
    "med=input(\"he/she has medical cause or not? ( 'Y' or 'N' )\")\n",
    "percentage=(class_att/class_held)*100\n",
    "print(\"Attendence percentage is : \",math.ceil(percentage), '%') #use math.ceil() to print value of nearest integer\n",
    "if percentage >= 75:\n",
    "    print(\"You are allowed to sit in the exam !!\")\n",
    "elif (med == \"Y\"):\n",
    "    print(\"You are allowed to sit in the exam !!\")\n",
    "else:\n",
    "    print(\"You are not allowed to sit in the exam :( \")"
   ]
  },
  {
   "cell_type": "markdown",
   "id": "f4397afb",
   "metadata": {
    "id": "f4397afb"
   },
   "source": [
    "4.\tA school has following rules for grading system:  \n",
    "a.\tBelow 25 - F  \n",
    "b.\t25 to 45 - E  \n",
    "c.\t45 to 50 - D  \n",
    "d.\t50 to 60 - C  \n",
    "e.\t60 to 80 - B  \n",
    "f.\tAbove 80 - A  \n",
    "Ask user to enter marks and print the corresponding grade."
   ]
  },
  {
   "cell_type": "code",
   "execution_count": null,
   "id": "17193590",
   "metadata": {
    "id": "17193590",
    "outputId": "d5e49d0b-99c4-48e2-9819-d3e58a3fdd31"
   },
   "outputs": [
    {
     "name": "stdout",
     "output_type": "stream",
     "text": [
      "Enter your Marks: 56\n",
      "C\n"
     ]
    }
   ],
   "source": [
    "marks=int(input(\"Enter your Marks: \"))\n",
    "if marks<25:\n",
    "    print(\"F\")\n",
    "elif 25<=marks<45:\n",
    "    print(\"E\")\n",
    "elif 45<=marks<50:\n",
    "    print(\"D\")\n",
    "elif 50<=marks<60:\n",
    "    print(\"C\")\n",
    "elif 60<=marks<80:\n",
    "    print(\"B\")\n",
    "elif 80<=marks<=100:\n",
    "    print(\"A\")\n",
    "else:\n",
    "    print(\"Please enter valid input\")\n"
   ]
  },
  {
   "cell_type": "code",
   "execution_count": null,
   "id": "62017cbc",
   "metadata": {
    "id": "62017cbc",
    "outputId": "43b1f8a8-52bd-4eec-f04c-8584bfd7bfd7"
   },
   "outputs": [
    {
     "name": "stdout",
     "output_type": "stream",
     "text": [
      "Enter your Marks: 46\n",
      "D\n"
     ]
    }
   ],
   "source": [
    "marks=int(input(\"Enter your Marks: \"))\n",
    "arr = [0, 25, 45, 50, 60, 80, 100]\n",
    "arr_ch = ['F', 'E', 'D', 'C', 'B', 'A']\n",
    "for i in range(6):\n",
    "    if arr[i]<=marks<arr[i+1]:\n",
    "        print(arr_ch[i])"
   ]
  },
  {
   "cell_type": "markdown",
   "id": "9c9821f2",
   "metadata": {
    "id": "9c9821f2"
   },
   "source": [
    "5.\t  If  x = 2 y = 5 z = 0  then find values of the following expressions and Print the output of following statements  \n",
    "a.\tx == 2  \n",
    "b.\tx != 5  \n",
    "c.\tx != 5 & y >= 5  \n",
    "d.\tz != 0 | x == 2  \n",
    "e.\tnot(y < 10)  "
   ]
  },
  {
   "cell_type": "code",
   "execution_count": null,
   "id": "9a2d2250",
   "metadata": {
    "id": "9a2d2250",
    "outputId": "1a40d84e-a7c6-4bcb-95c5-f2ddc78f909a"
   },
   "outputs": [
    {
     "name": "stdout",
     "output_type": "stream",
     "text": [
      "True\n",
      "True\n",
      "True\n",
      "True\n",
      "False\n"
     ]
    }
   ],
   "source": [
    "x = 2\n",
    "y = 5\n",
    "z = 0\n",
    "print(x == 2)\n",
    "print(x != 5)\n",
    "print(x != 5 & y >= 5)\n",
    "print(z != 0 | x == 2)\n",
    "print(not(y < 10))"
   ]
  },
  {
   "cell_type": "markdown",
   "id": "6eb236d6",
   "metadata": {
    "id": "6eb236d6"
   },
   "source": [
    "6.\tAccept number from user and check whether it is divisible by 5 and 11 if divisible then display appropriate message."
   ]
  },
  {
   "cell_type": "code",
   "execution_count": null,
   "id": "7cef711b",
   "metadata": {
    "id": "7cef711b",
    "outputId": "40244bdd-d228-4743-f43b-604dc830e1fe"
   },
   "outputs": [
    {
     "name": "stdout",
     "output_type": "stream",
     "text": [
      "Enter a number: 14\n",
      "Not divisible\n"
     ]
    }
   ],
   "source": [
    "num=int(input(\"Enter a number: \"))\n",
    "if (num%5==0) & (num%11==0):\n",
    "    print(\"Divisible by both 5 and 11\")\n",
    "else:\n",
    "    print(\"Not divisible\")"
   ]
  },
  {
   "cell_type": "markdown",
   "id": "5728ec86",
   "metadata": {
    "id": "5728ec86"
   },
   "source": [
    "7.\tWrite a program to calculate the electricity bill (accept number of unit from user) according to the following criteria :  \n",
    "             Unit                                    Price    \n",
    "First 100 units                                       no charge  \n",
    "Next 100 units                                        Rs 5 per unit  \n",
    "After 200 units                                       Rs 10 per unit  \n",
    "(For example if input unit is 350 than total bill amount is Rs2000)  "
   ]
  },
  {
   "cell_type": "code",
   "execution_count": null,
   "id": "c80463bf",
   "metadata": {
    "id": "c80463bf",
    "outputId": "242e34f2-83cd-47d4-d2c4-40263028daf9"
   },
   "outputs": [
    {
     "name": "stdout",
     "output_type": "stream",
     "text": [
      "Enter the units : 350\n",
      "2000\n"
     ]
    }
   ],
   "source": [
    "unit = int(input(\"Enter the units : \"))\n",
    "charge = 0\n",
    "if unit>200:\n",
    "    charge = charge + (unit-200) * 10\n",
    "    unit = 200\n",
    "if 200>=unit>100:\n",
    "    charge = charge + (unit-100) * 5\n",
    "    unit = 100\n",
    "if 100>unit:\n",
    "    charge = charge + (unit-0) * 0\n",
    "    unit = 0\n",
    "print(charge)"
   ]
  },
  {
   "cell_type": "markdown",
   "id": "e7145c9c",
   "metadata": {
    "id": "e7145c9c"
   },
   "source": [
    "8.\tWrite a program to check whether the last digit of a number( entered by user ) is divisible by 3 or not.  \n"
   ]
  },
  {
   "cell_type": "code",
   "execution_count": null,
   "id": "ae3c0504",
   "metadata": {
    "id": "ae3c0504",
    "outputId": "e490a656-050d-4215-b72f-7bda180b762a"
   },
   "outputs": [
    {
     "name": "stdout",
     "output_type": "stream",
     "text": [
      "Enter a number: 452\n",
      "Number is not divisible by 3\n"
     ]
    }
   ],
   "source": [
    "num=int(input(\"Enter a number: \"))\n",
    "digit = num % 10\n",
    "if digit%3==0:\n",
    "    print(\"Number is divisible by 3\")\n",
    "else:\n",
    "    print(\"Number is not divisible by 3\")"
   ]
  },
  {
   "cell_type": "markdown",
   "id": "f9830977",
   "metadata": {
    "id": "f9830977"
   },
   "source": [
    "9.\tWrite a program to check whether an years is leap year or not the year is leap if it satisfies following condition  \n",
    "•\tIt the year is divisible by 100 o If it is divisible by 100, then it should also be divisible by 400 then it is leap year  \n",
    "•\totherwise, all other years divisible by 4 and not divisible by 100 then it is leap year.  "
   ]
  },
  {
   "cell_type": "code",
   "execution_count": null,
   "id": "0992bf46",
   "metadata": {
    "id": "0992bf46",
    "outputId": "362c19b4-87b2-4589-b818-24f7f8b9720f"
   },
   "outputs": [
    {
     "name": "stdout",
     "output_type": "stream",
     "text": [
      "Enter a year: 2023\n",
      "Not a leap year\n"
     ]
    }
   ],
   "source": [
    "year=int(input(\"Enter a year: \"))\n",
    "if year % 100 == 0:\n",
    "    if year % 400 == 0:\n",
    "        print(\"Leap year\")\n",
    "    else:\n",
    "        print(\"Not a leap year\")\n",
    "elif year % 4 == 0:\n",
    "    print(\"Leap year\")\n",
    "else:\n",
    "    print(\"Not a leap year\")"
   ]
  },
  {
   "cell_type": "markdown",
   "id": "c3aa6379",
   "metadata": {
    "id": "c3aa6379"
   },
   "source": [
    "10. Write a program to accept the price of a bike and display the road tax and insurance to be paid according to the following criteria . also display total amount to be paid.  \n",
    "      \n",
    "        Cost price (in Rs)           Tax                Inssurance  \n",
    "        > 100000                     15 %                   20%  \n",
    "        > 50000 and <= 100000        10%                    8%  \n",
    "        <= 50000                     5%                     5%   "
   ]
  },
  {
   "cell_type": "code",
   "execution_count": null,
   "id": "08740d07",
   "metadata": {
    "id": "08740d07",
    "outputId": "28b8e231-bd16-4803-f66c-34cb5350dde2"
   },
   "outputs": [
    {
     "name": "stdout",
     "output_type": "stream",
     "text": [
      "Enter price of the bike : 25000\n",
      "27500.0\n"
     ]
    }
   ],
   "source": [
    "price = int(input(\"Enter price of the bike : \"))\n",
    "total = 0\n",
    "if price>=100000:\n",
    "    tax = price * 0.15\n",
    "    insurance = price * 0.2\n",
    "    total = price + tax + insurance\n",
    "elif 100000>price>=50000:\n",
    "    tax = price * 0.1\n",
    "    insurance = price * 0.08\n",
    "    total = price + tax + insurance\n",
    "elif 50000>=price:\n",
    "    tax = price * 0.05\n",
    "    insurance = price * 0.05\n",
    "    total = price + tax + insurance\n",
    "print(total)"
   ]
  },
  {
   "cell_type": "markdown",
   "id": "990d6910",
   "metadata": {
    "id": "0796bff6"
   },
   "source": [
    "# Loop"
   ]
  },
  {
   "cell_type": "markdown",
   "id": "aaa59ad2",
   "metadata": {},
   "source": [
    "1.\tAccept 10 integers from user  and print their average value on the screen "
   ]
  },
  {
   "cell_type": "code",
   "execution_count": 18,
   "id": "a636e02b",
   "metadata": {},
   "outputs": [
    {
     "name": "stdout",
     "output_type": "stream",
     "text": [
      "Enter1\n",
      "Enter5\n",
      "Enter8\n",
      "Enter8\n",
      "Enter9\n",
      "Enter3\n",
      "Enter4\n",
      "Enter3\n",
      "Enter5\n",
      "Enter8\n",
      "avg:  5.4\n"
     ]
    }
   ],
   "source": [
    "total=0\n",
    "avg=0\n",
    "for i in range(1,11):\n",
    "    a=int(input(\"Enter\"))\n",
    "    total=total+a\n",
    "\n",
    "avg=(total/10)\n",
    "print(\"avg: \", avg)"
   ]
  },
  {
   "cell_type": "markdown",
   "id": "a3705404",
   "metadata": {},
   "source": [
    "2.\tPrint the following patterns using loop :"
   ]
  },
  {
   "cell_type": "markdown",
   "id": "02b37505",
   "metadata": {},
   "source": [
    "Print the following patterns using loop : \n",
    "a. \n",
    "* \n",
    "** \n",
    "***\n",
    "****"
   ]
  },
  {
   "cell_type": "code",
   "execution_count": 20,
   "id": "f6e06922",
   "metadata": {},
   "outputs": [
    {
     "name": "stdout",
     "output_type": "stream",
     "text": [
      "*\n",
      "**\n",
      "***\n",
      "****\n"
     ]
    }
   ],
   "source": [
    "a=4\n",
    "\n",
    "for i in range(1,a+1):\n",
    "    print(\"*\"*i)\n"
   ]
  },
  {
   "cell_type": "markdown",
   "id": "20a2fa19",
   "metadata": {},
   "source": [
    "b. \n",
    "    *                    \n",
    "  ***                \n",
    "***** \n",
    "  ***\n",
    "    * "
   ]
  },
  {
   "cell_type": "code",
   "execution_count": 36,
   "id": "e6a86a64",
   "metadata": {},
   "outputs": [
    {
     "name": "stdout",
     "output_type": "stream",
     "text": [
      "    *\n",
      "  ***\n",
      "*****\n",
      "  ***\n",
      "    *\n"
     ]
    }
   ],
   "source": [
    "n=5\n",
    "sp=n//4\n",
    "for i in range(1,n+1,2):\n",
    "    print(\" \"*(n-i),\"*\"*i,sep=\"\")\n",
    "\n",
    "for i in range(2,n,2):\n",
    "    print(\" \"*(i),\"*\"*(n-i),sep=\"\")\n",
    "    "
   ]
  },
  {
   "cell_type": "code",
   "execution_count": 29,
   "id": "605c84cc",
   "metadata": {},
   "outputs": [
    {
     "name": "stdout",
     "output_type": "stream",
     "text": [
      "Enter an odd number : 9\n",
      "        *\n",
      "      ***\n",
      "    *****\n",
      "  *******\n",
      "*********\n",
      "  *******\n",
      "    *****\n",
      "      ***\n",
      "        *\n"
     ]
    }
   ],
   "source": [
    "num=int(input(\"Enter an odd number : \"))\n",
    "space=num-1\n",
    "if num % 2 != 0:\n",
    "    for i in range(1, num+1, 2):\n",
    "        print(\" \"*space, \"*\"*i, sep=\"\")\n",
    "        space-=2\n",
    "    space=2    \n",
    "    for j in range(num-2, 0, -2):\n",
    "        print(\" \"*space, \"*\"*j, sep=\"\")\n",
    "        space=space+2\n",
    "        \n"
   ]
  },
  {
   "cell_type": "code",
   "execution_count": 22,
   "id": "e6488987",
   "metadata": {},
   "outputs": [
    {
     "name": "stdout",
     "output_type": "stream",
     "text": [
      "Enter an odd number : 5\n",
      "    *\n",
      "  ***\n",
      "*****\n"
     ]
    }
   ],
   "source": [
    "#program for experimentation purpose\n",
    "num=int(input(\"Enter an odd number : \"))\n",
    "space=num-1\n",
    "start=1\n",
    "end=num+1\n",
    "r=2\n",
    "if num % 2 != 0:\n",
    "    for i in range(start, end, r):\n",
    "        print(\" \"*space, \"*\"*i, sep=\"\")\n",
    "        space-=2\n",
    "        if i==num:\n",
    "            start, end=end, start\n",
    "            r=-2\n",
    "            \n",
    "            "
   ]
  },
  {
   "cell_type": "markdown",
   "id": "4836afb3",
   "metadata": {},
   "source": [
    "c. \n",
    "1010101          \n",
    " 10101  \n",
    "  101   \n",
    "   1  "
   ]
  },
  {
   "cell_type": "code",
   "execution_count": 13,
   "id": "6ee8d676",
   "metadata": {
    "scrolled": true
   },
   "outputs": [
    {
     "name": "stdout",
     "output_type": "stream",
     "text": [
      "1010101\n",
      " 10101\n",
      "  101\n",
      "   1\n"
     ]
    }
   ],
   "source": [
    "n=4\n",
    "space=0\n",
    "for i in range(1,n+1):\n",
    "    print(' '*space,'10'*(n-i),'1',sep='')\n",
    "    space+=1"
   ]
  },
  {
   "cell_type": "code",
   "execution_count": 14,
   "id": "df20e367",
   "metadata": {},
   "outputs": [
    {
     "name": "stdout",
     "output_type": "stream",
     "text": [
      "   1\n",
      "  101\n",
      " 10101\n",
      "1010101\n"
     ]
    }
   ],
   "source": [
    "n=4\n",
    "a=0\n",
    "for i in range(1,n+1):\n",
    "    print(\" \"*(n-i),\"10\"*a,\"1\",sep=\"\")\n",
    "    a+=1"
   ]
  },
  {
   "cell_type": "markdown",
   "id": "1b5de193",
   "metadata": {},
   "source": [
    "d.\n",
    "1  \n",
    "1 2  \n",
    "1 2 3  \n",
    "1 2 3 4  \n",
    "1 2 3 4 5 "
   ]
  },
  {
   "cell_type": "code",
   "execution_count": 83,
   "id": "b6b0e91e",
   "metadata": {},
   "outputs": [
    {
     "name": "stdout",
     "output_type": "stream",
     "text": [
      "1\n",
      "12\n",
      "123\n",
      "1234\n",
      "12345\n"
     ]
    }
   ],
   "source": [
    "n=5\n",
    "\n",
    "for i in range(1,n+1):\n",
    "    for j in range (1,i+1):\n",
    "        print(j,end=\"\")\n",
    "    print(\"\")"
   ]
  },
  {
   "cell_type": "code",
   "execution_count": 1,
   "id": "61669082",
   "metadata": {},
   "outputs": [
    {
     "name": "stdout",
     "output_type": "stream",
     "text": [
      "Enter a number : 6\n",
      "1\n",
      "12\n",
      "123\n",
      "1234\n",
      "12345\n",
      "123456\n"
     ]
    }
   ],
   "source": [
    "num=int(input(\"Enter a number : \"))\n",
    "for i in range(1, num+1):\n",
    "    for j in range(1,i+1):\n",
    "        print(j, end=\"\")\n",
    "    print(\"\")"
   ]
  },
  {
   "cell_type": "markdown",
   "id": "48d32e7c",
   "metadata": {},
   "source": [
    "3.\tWrite a program to find greatest common divisor (GCD) or highest common factor (HCF) of given two numbers.\n"
   ]
  },
  {
   "cell_type": "code",
   "execution_count": 26,
   "id": "8397d7e1",
   "metadata": {},
   "outputs": [
    {
     "name": "stdout",
     "output_type": "stream",
     "text": [
      "Enter number 1 : 12\n",
      "Enter number 2 : 108\n",
      "GCD is the numbers are :  12\n"
     ]
    }
   ],
   "source": [
    "import math\n",
    "x=int(input(\"Enter number 1 : \"))\n",
    "y=int(input(\"Enter number 2 : \"))\n",
    "print(\"GCD is the numbers are : \", math.gcd(x,y))"
   ]
  },
  {
   "cell_type": "markdown",
   "id": "58ec598e",
   "metadata": {},
   "source": [
    "4.\tTake integer inputs from user until he/she presses q ( Ask to press q to quit after every integer input ). Print average and product of all numbers."
   ]
  },
  {
   "cell_type": "code",
   "execution_count": 6,
   "id": "e12b4150",
   "metadata": {},
   "outputs": [
    {
     "name": "stdout",
     "output_type": "stream",
     "text": [
      "Enter number (press q to exit): 45\n",
      "Average is:  45\n",
      "Product is:  45\n",
      "Enter number (press q to exit): 44\n",
      "Average is:  89\n",
      "Product is:  1980\n",
      "Enter number (press q to exit): q\n"
     ]
    }
   ],
   "source": [
    "average=0\n",
    "product=1\n",
    "x=1\n",
    "while x:\n",
    "    x=input(\"Enter number (press q to exit): \")\n",
    "    if (x=='q') or (x=='Q'):\n",
    "        break\n",
    "    average+=int(x)\n",
    "    product*=int(x)\n",
    "    print(\"Average is: \", average)\n",
    "    print(\"Product is: \", product)\n",
    "    \n",
    "        "
   ]
  },
  {
   "cell_type": "markdown",
   "id": "784f9259",
   "metadata": {},
   "source": [
    "5.\tGiven a number count the total number of digits in a number and also find sum of digits of the number."
   ]
  },
  {
   "cell_type": "code",
   "execution_count": 11,
   "id": "76157b67",
   "metadata": {},
   "outputs": [
    {
     "name": "stdout",
     "output_type": "stream",
     "text": [
      "Enter a number : 123456789\n",
      "Lenght of the number is : 9\n",
      "Total of the digits is : 45\n"
     ]
    }
   ],
   "source": [
    "num=input(\"Enter a number : \")\n",
    "total=0\n",
    "if num.isdigit()==True:\n",
    "    print(\"Lenght of the number is :\", len(num))\n",
    "    for i in num:\n",
    "        total+=int(i)\n",
    "    print(\"Total of the digits is :\", total)\n",
    "    "
   ]
  },
  {
   "cell_type": "markdown",
   "id": "f66b41c0",
   "metadata": {},
   "source": [
    "6.\tTo display the cube of the number upto given an integer. If the given integer is 5, then display cube of 1 to 4."
   ]
  },
  {
   "cell_type": "code",
   "execution_count": 14,
   "id": "4fc2f716",
   "metadata": {},
   "outputs": [
    {
     "name": "stdout",
     "output_type": "stream",
     "text": [
      "Enter a number : 5\n",
      "1\n",
      "8\n",
      "27\n",
      "64\n"
     ]
    }
   ],
   "source": [
    "num=int(input(\"Enter a number : \"))\n",
    "for i in range(1,num):\n",
    "    print(i**3)"
   ]
  },
  {
   "cell_type": "markdown",
   "id": "c7ae2098",
   "metadata": {},
   "source": [
    "7.\tAccept 20 numbers from user and display sum of only even numbers."
   ]
  },
  {
   "cell_type": "code",
   "execution_count": null,
   "id": "25330ced",
   "metadata": {},
   "outputs": [],
   "source": [
    "total=0\n",
    "for i in range(1,21):\n",
    "    a=int(input(\"Enter {0} number: \".format(i)))\n",
    "    if a%2==0:\n",
    "        total+=a  \n",
    "print(\"Sum of even numbers is: \", total)"
   ]
  },
  {
   "cell_type": "markdown",
   "id": "30b71448",
   "metadata": {},
   "source": [
    "8.\tAsk user number of terms to be generated of a series. \n",
    "generate numbers for the following series and find its addition \n",
    "[9 + 99 + 999 + 9999+……..] \n"
   ]
  },
  {
   "cell_type": "code",
   "execution_count": 2,
   "id": "5fd71fe1",
   "metadata": {},
   "outputs": [
    {
     "name": "stdout",
     "output_type": "stream",
     "text": [
      "Enter number of terms: 5\n",
      "Terms are:  9 + 99 + 999 + 9999 + 99999\n",
      "Total is : 111105\n"
     ]
    }
   ],
   "source": [
    "num=int(input(\"Enter number of terms: \"))\n",
    "total=0\n",
    "print(\"Terms are: \", end=\" \")\n",
    "for i in range(1,num+1):\n",
    "    a= '9'*i\n",
    "    if i < (num):\n",
    "        print(a, '+ ', end=\"\")\n",
    "        total+= int(a)\n",
    "    else:\n",
    "        print(a)\n",
    "        total+= int(a)\n",
    "print(\"Total is :\", total)"
   ]
  },
  {
   "cell_type": "markdown",
   "id": "d929a68e",
   "metadata": {},
   "source": [
    "9.\tWrite a program in python to display the sum of the series [ 1+x+x^2/2!+x^3/3!+....]. Go to the editor \n",
    "Test Data : \n",
    "Input the value of x :3 Input number of terms : 5 Expected Output : \n",
    "The sum is : 16.375000 "
   ]
  },
  {
   "cell_type": "code",
   "execution_count": 3,
   "id": "48606894",
   "metadata": {},
   "outputs": [
    {
     "name": "stdout",
     "output_type": "stream",
     "text": [
      "Enter value of x : 3\n",
      "Enter numer of terms : 5\n",
      "16.375\n"
     ]
    }
   ],
   "source": [
    "import math\n",
    "x=int(input(\"Enter value of x : \"))\n",
    "num=int(input(\"Enter numer of terms : \"))\n",
    "total=0\n",
    "for i in range(num):\n",
    "    total+= ((pow(x, i))/math.factorial(i))\n",
    "print(total)\n"
   ]
  },
  {
   "cell_type": "markdown",
   "id": "d5a9c244",
   "metadata": {},
   "source": [
    "10.\tWrite a program in python to find the sum of the series [ x - x^3 + x^5 –x^7+x^9-x^11+ ......]. Go to the editor\n",
    "Test Data :\n",
    "Input the value of x :2 Input number of terms : 5 Expected Output :\n",
    "The values of the series:\n",
    "2\n",
    "-8\n",
    "32\n",
    "-128\n",
    "512\n",
    "The sum = 410"
   ]
  },
  {
   "cell_type": "code",
   "execution_count": 4,
   "id": "cf91e202",
   "metadata": {},
   "outputs": [
    {
     "name": "stdout",
     "output_type": "stream",
     "text": [
      "Enter value of x : 2\n",
      "Enter numer of terms : 5\n",
      "410\n"
     ]
    }
   ],
   "source": [
    "import math\n",
    "x=int(input(\"Enter value of x : \"))\n",
    "num=int(input(\"Enter numer of terms : \"))\n",
    "total=0\n",
    "term=1\n",
    "for i in range(1,num*2,2):\n",
    "    if term % 2 !=0:\n",
    "        total+= (pow(x, i))\n",
    "    else:\n",
    "        total-= (pow(x, i))\n",
    "    term+=1\n",
    "print(total)\n"
   ]
  },
  {
   "cell_type": "markdown",
   "id": "cfc381fa",
   "metadata": {},
   "source": [
    "11.\tTake a number from user and check if it is prime or not\n"
   ]
  },
  {
   "cell_type": "code",
   "execution_count": 13,
   "id": "a5f8a49e",
   "metadata": {},
   "outputs": [
    {
     "name": "stdout",
     "output_type": "stream",
     "text": [
      "Enter a number : 71\n",
      "Number is prime number!\n"
     ]
    }
   ],
   "source": [
    "import math\n",
    "num=int(input(\"Enter a number : \"))\n",
    "flag=1\n",
    "e=int(math.sqrt(num))\n",
    "for i in range(2,e):\n",
    "    if num%i==0:\n",
    "        flag=0\n",
    "if flag==1:\n",
    "    print(\"Number is prime number!\")\n",
    "else:\n",
    "    print(\"Number is not a prime :(\")"
   ]
  },
  {
   "cell_type": "markdown",
   "id": "a8c30ab0",
   "metadata": {},
   "source": [
    "12.\tTake a number from user and print sum of all odd numbers till that number.\n",
    "Ex. Enter a no : 10   \n",
    "Sum of all odd numbers till 10 : 3+5+7+9  =24"
   ]
  },
  {
   "cell_type": "code",
   "execution_count": 43,
   "id": "40e1253d",
   "metadata": {},
   "outputs": [
    {
     "name": "stdout",
     "output_type": "stream",
     "text": [
      "enter a number: 10\n",
      "Total is:  25\n"
     ]
    }
   ],
   "source": [
    "num=int(input(\"enter a number: \"))\n",
    "\n",
    "total=0\n",
    "for i in range(1,num):\n",
    "    if (i%2)!=0:\n",
    "        total+=i\n",
    "print(\"Total is: \",total)"
   ]
  },
  {
   "cell_type": "markdown",
   "id": "c63b1d28",
   "metadata": {},
   "source": [
    "# Advance Questions"
   ]
  },
  {
   "cell_type": "markdown",
   "id": "45020232",
   "metadata": {},
   "source": [
    "Q. Create a variable storing integer value. Print the identity of that variable. Then change value of that variable and again print the identity.\n"
   ]
  },
  {
   "cell_type": "code",
   "execution_count": 14,
   "id": "8f8add79",
   "metadata": {},
   "outputs": [
    {
     "data": {
      "text/plain": [
       "140717127406664"
      ]
     },
     "execution_count": 14,
     "metadata": {},
     "output_type": "execute_result"
    }
   ],
   "source": [
    "var=10\n",
    "id(var)"
   ]
  },
  {
   "cell_type": "code",
   "execution_count": 15,
   "id": "36a93b74",
   "metadata": {},
   "outputs": [
    {
     "data": {
      "text/plain": [
       "140717127406728"
      ]
     },
     "execution_count": 15,
     "metadata": {},
     "output_type": "execute_result"
    }
   ],
   "source": [
    "var=12\n",
    "id(var)"
   ]
  },
  {
   "cell_type": "markdown",
   "id": "3b94da16",
   "metadata": {},
   "source": [
    "Id of var is changed as the value assigned to it is changed"
   ]
  },
  {
   "cell_type": "markdown",
   "id": "f9d77925",
   "metadata": {},
   "source": [
    "-------------------------------------------------------------------------------"
   ]
  },
  {
   "cell_type": "markdown",
   "id": "5a255565",
   "metadata": {},
   "source": [
    "------------------------------------------------------------------------------------------------------"
   ]
  },
  {
   "cell_type": "markdown",
   "id": "39b6be91",
   "metadata": {},
   "source": [
    "Q. What is PEMDAS rule ? What is BODMAS ? Is there any difference in them ?\n"
   ]
  },
  {
   "cell_type": "markdown",
   "id": "b04f7d99",
   "metadata": {},
   "source": [
    "<b>PEMDAS</b> rule states that the order of operation starts with the parentheses first or the calculation which is enclosed in brackets. Then the operation is performed on exponents(degree or square roots) and later we do operations on multiplication & division and at last addition and subtraction.\n",
    "\n"
   ]
  },
  {
   "cell_type": "markdown",
   "id": "9ae08f43",
   "metadata": {},
   "source": [
    "The full form of BODMAS is\n",
    "\n",
    "Brackets (Numbers inside the Bracket always comes first)\n",
    "\n",
    "Precedence of brackets are : (bar)\n",
    "\n",
    "Orders (the power)\n",
    "\n",
    "Division\n",
    "\n",
    "Multiplication\n",
    "\n",
    "Addition\n",
    "\n",
    "Subtraction"
   ]
  },
  {
   "cell_type": "markdown",
   "id": "cd63ebc7",
   "metadata": {},
   "source": [
    "PEMDAS is the proper word to use when solving equations in the United States, while BODMAS is the proper word to use in the United Kingdom.\n",
    "In BODMAS, division and multiplication have equal priority. In contrast, in PEMDAS, multiplication takes precedence over division3. The order of operations for brackets, orders, addition, subtraction, multiplication, and division is the same for both rules4"
   ]
  },
  {
   "cell_type": "code",
   "execution_count": null,
   "id": "868a80bd",
   "metadata": {},
   "outputs": [],
   "source": []
  }
 ],
 "metadata": {
  "colab": {
   "provenance": []
  },
  "kernelspec": {
   "display_name": "Python 3 (ipykernel)",
   "language": "python",
   "name": "python3"
  },
  "language_info": {
   "codemirror_mode": {
    "name": "ipython",
    "version": 3
   },
   "file_extension": ".py",
   "mimetype": "text/x-python",
   "name": "python",
   "nbconvert_exporter": "python",
   "pygments_lexer": "ipython3",
   "version": "3.11.4"
  }
 },
 "nbformat": 4,
 "nbformat_minor": 5
}
