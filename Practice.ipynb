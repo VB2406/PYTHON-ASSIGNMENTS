{
 "cells": [
  {
   "cell_type": "markdown",
   "id": "f9fbe8eb",
   "metadata": {},
   "source": [
    "Q9. Write a menu driven program.\n",
    "Ask the user which input needs to be converted \n",
    "1. binary 2. Octal 3. Hex\n",
    "Then convert given string to integer using int() function"
   ]
  },
  {
   "cell_type": "code",
   "execution_count": null,
   "id": "822562f9",
   "metadata": {},
   "outputs": [
    {
     "name": "stdout",
     "output_type": "stream",
     "text": [
      "Welcome to menu!\n",
      "Enter a number to be converted : 5\n",
      "Press 1 for Binary \n",
      "Press 2 for Octal \n",
      "Press 3 for Hexa Decimal \n",
      "Press 4 to exit \n",
      "Enter your choice : 2\n",
      "Press 1 for Binary \n",
      "Press 2 for Octal \n",
      "Press 3 for Hexa Decimal \n",
      "Press 4 to exit \n",
      "Enter your choice : 3\n",
      "0x5\n",
      "\n",
      "\n",
      "Press 1 for Binary \n",
      "Press 2 for Octal \n",
      "Press 3 for Hexa Decimal \n",
      "Press 4 to exit \n",
      "Enter your choice : 1\n",
      "0b101\n",
      "\n",
      "\n",
      "Press 1 for Binary \n",
      "Press 2 for Octal \n",
      "Press 3 for Hexa Decimal \n",
      "Press 4 to exit \n",
      "Enter your choice : 2\n",
      "0o5\n",
      "\n",
      "\n"
     ]
    }
   ],
   "source": [
    "print(\"Welcome to menu!\")\n",
    "num=int(input(\"Enter a number to be converted : \"))\n",
    "choice=int(input(\"Press 1 for Binary \\nPress 2 for Octal \\nPress 3 for Hexa Decimal \\nPress 4 to exit \\nEnter your choice : \"))\n",
    "while True:\n",
    "    choice=int(input(\"Press 1 for Binary \\nPress 2 for Octal \\nPress 3 for Hexa Decimal \\nPress 4 to exit \\nEnter your choice : \"))\n",
    "    match choice:\n",
    "        case 1:\n",
    "            print(bin(num))\n",
    "        case 2:\n",
    "            print(oct(num))\n",
    "        case 3:\n",
    "            print(hex(num))\n",
    "        case 4:\n",
    "            break\n",
    "        case _:\n",
    "            break\n",
    "    print(\"\\n\")"
   ]
  },
  {
   "cell_type": "code",
   "execution_count": null,
   "id": "bce47717",
   "metadata": {
    "scrolled": true
   },
   "outputs": [],
   "source": [
    "one=int(input(\"Enter number one : \"))\n",
    "two=int(input(\"Enter number two : \"))\n",
    "choice=input(\"Press 1 for Addition \\nPress 2 for Subtraction \\nPress 3 for Multiplication \\nPress 4 for Division \\nEnter your choice : \")\n",
    "match choice:\n",
    "        case \"1\":\n",
    "            print(one+two)\n",
    "        case \"2\":\n",
    "            print(one-two)\n",
    "        case \"3\":\n",
    "            print(one*two)\n",
    "        case \"4\":\n",
    "            print(one/two)\n",
    "        case _:\n",
    "            print(\"Print valid choice!\")"
   ]
  },
  {
   "cell_type": "code",
   "execution_count": 3,
   "id": "5b1b5e78",
   "metadata": {},
   "outputs": [
    {
     "name": "stdout",
     "output_type": "stream",
     "text": [
      "0o24\n"
     ]
    }
   ],
   "source": [
    "num=20\n",
    "print(oct(num))"
   ]
  },
  {
   "cell_type": "code",
   "execution_count": 8,
   "id": "a937cb18",
   "metadata": {},
   "outputs": [
    {
     "name": "stdout",
     "output_type": "stream",
     "text": [
      "[51, 57, 63, 69, 75, 77, 81, 87, 91, 93, 99]\n"
     ]
    }
   ],
   "source": [
    "l1=[]\n",
    "for idx in range(51,100,2):\n",
    "    if (idx%3==0) or (idx%7==0):\n",
    "        l1.append(idx)\n",
    "print(l1)"
   ]
  },
  {
   "cell_type": "code",
   "execution_count": 20,
   "id": "8d263849",
   "metadata": {},
   "outputs": [
    {
     "name": "stdout",
     "output_type": "stream",
     "text": [
      "1 6\n",
      "2 16\n",
      "3 13\n",
      "4 22\n",
      "5 14\n",
      "6 15\n",
      "7 17\n"
     ]
    }
   ],
   "source": [
    "l2=[6,16,13,22,14,15,17]\n",
    "for idx,element in enumerate(l2,1):\n",
    "        #if idx%2==0:\n",
    "        print(idx,element)"
   ]
  },
  {
   "cell_type": "code",
   "execution_count": 22,
   "id": "d86d671b",
   "metadata": {},
   "outputs": [
    {
     "name": "stdout",
     "output_type": "stream",
     "text": [
      "[1, 4, 9, 16, 25, 36]\n"
     ]
    }
   ],
   "source": [
    "l1=[1,2,3,4,5,6]\n",
    "l2=[element**2 for element in l1]\n",
    "print(l2)"
   ]
  },
  {
   "cell_type": "code",
   "execution_count": 23,
   "id": "e7d9728b",
   "metadata": {},
   "outputs": [
    {
     "data": {
      "text/plain": [
       "[3, 4, 5]"
      ]
     },
     "execution_count": 23,
     "metadata": {},
     "output_type": "execute_result"
    }
   ],
   "source": [
    "l1[2:5]"
   ]
  },
  {
   "cell_type": "code",
   "execution_count": 31,
   "id": "0d4cb6a3",
   "metadata": {},
   "outputs": [
    {
     "name": "stdout",
     "output_type": "stream",
     "text": [
      "[1, 2, 3, 4, 5, 6]\n"
     ]
    },
    {
     "data": {
      "text/plain": [
       "[2, 3, 4, 5, 6]"
      ]
     },
     "execution_count": 31,
     "metadata": {},
     "output_type": "execute_result"
    }
   ],
   "source": [
    "print(l1)\n",
    "l1[1:100]"
   ]
  },
  {
   "cell_type": "code",
   "execution_count": 5,
   "id": "e4b326db",
   "metadata": {},
   "outputs": [
    {
     "name": "stdout",
     "output_type": "stream",
     "text": [
      "[1, 2, 3, 4, 5, 6, 7, 8, 9, 10, 11, 12, 13, 14, 15, 16, 17, 18, 19, 20, 21, 22, 23, 24, 25, 26, 27, 28, 29, 30, 31, 32, 33, 34, 35, 36, 37, 38, 39]\n",
      "[5, 10, 15, 20, 25, 30, 35]\n",
      "[11, 22, 33]\n"
     ]
    }
   ],
   "source": [
    "l1=[element for element in range(1,40)]\n",
    "l2=[element for element in l1 if element%5==0]\n",
    "l3=[element for element in l1 if element%11==0]\n",
    "print(l1)\n",
    "print(l2)\n",
    "print(l3)"
   ]
  },
  {
   "cell_type": "code",
   "execution_count": null,
   "id": "dc343aca",
   "metadata": {},
   "outputs": [],
   "source": []
  },
  {
   "cell_type": "markdown",
   "id": "2fa1fb42",
   "metadata": {},
   "source": [
    "Take a number from user and check whether it is armstrong number or not "
   ]
  },
  {
   "cell_type": "code",
   "execution_count": 4,
   "id": "2a3e4c8e",
   "metadata": {},
   "outputs": [
    {
     "name": "stdout",
     "output_type": "stream",
     "text": [
      "enter a number: 8204\n",
      "number is not a Armstrong\n"
     ]
    }
   ],
   "source": [
    "import math\n",
    "\n",
    "n=input(\"enter a number: \")\n",
    "total=0\n",
    "b=len(n)\n",
    "for i in n:\n",
    "    a=pow(int(i),int(b))\n",
    "    total+=a\n",
    "\n",
    "if total == int(n):\n",
    "    print(\"number is Armstrong\")\n",
    "else:\n",
    "    print(\"number is not a Armstrong\")"
   ]
  },
  {
   "cell_type": "code",
   "execution_count": 23,
   "id": "1743efa8",
   "metadata": {},
   "outputs": [
    {
     "name": "stdout",
     "output_type": "stream",
     "text": [
      "[1, 2, 3, 4, 5, 6, 7, 9]\n"
     ]
    }
   ],
   "source": [
    "l1=[1,2,3,4,1,2,5,6,7,1,5,3,2,9]\n",
    "l2=[]\n",
    "for e in l1:\n",
    "    if e not in l2:\n",
    "        l2.append(e)\n",
    "print(l2)"
   ]
  },
  {
   "cell_type": "code",
   "execution_count": 24,
   "id": "eb7bee9e",
   "metadata": {},
   "outputs": [
    {
     "name": "stdout",
     "output_type": "stream",
     "text": [
      "[]\n"
     ]
    }
   ],
   "source": [
    "l1=[1,2,3,4,1,2,5,6,7,1,5,3,2,9]\n",
    "l2=[e for e in l1 if e not in l2]\n",
    "\n",
    "print(l2)"
   ]
  },
  {
   "cell_type": "code",
   "execution_count": null,
   "id": "333edc67",
   "metadata": {},
   "outputs": [],
   "source": []
  }
 ],
 "metadata": {
  "kernelspec": {
   "display_name": "Python 3 (ipykernel)",
   "language": "python",
   "name": "python3"
  },
  "language_info": {
   "codemirror_mode": {
    "name": "ipython",
    "version": 3
   },
   "file_extension": ".py",
   "mimetype": "text/x-python",
   "name": "python",
   "nbconvert_exporter": "python",
   "pygments_lexer": "ipython3",
   "version": "3.11.4"
  }
 },
 "nbformat": 4,
 "nbformat_minor": 5
}
