{
 "cells": [
  {
   "cell_type": "markdown",
   "id": "4893c356",
   "metadata": {},
   "source": [
    "# Q1"
   ]
  },
  {
   "cell_type": "code",
   "execution_count": 1,
   "id": "6a8a196d",
   "metadata": {},
   "outputs": [
    {
     "data": {
      "text/plain": [
       "int"
      ]
     },
     "execution_count": 1,
     "metadata": {},
     "output_type": "execute_result"
    }
   ],
   "source": [
    "type(0)"
   ]
  },
  {
   "cell_type": "code",
   "execution_count": 2,
   "id": "f105690c",
   "metadata": {},
   "outputs": [
    {
     "data": {
      "text/plain": [
       "float"
      ]
     },
     "execution_count": 2,
     "metadata": {},
     "output_type": "execute_result"
    }
   ],
   "source": [
    "type(0.0)"
   ]
  },
  {
   "cell_type": "code",
   "execution_count": 3,
   "id": "053657da",
   "metadata": {},
   "outputs": [
    {
     "data": {
      "text/plain": [
       "str"
      ]
     },
     "execution_count": 3,
     "metadata": {},
     "output_type": "execute_result"
    }
   ],
   "source": [
    "type(\"A\")"
   ]
  },
  {
   "cell_type": "code",
   "execution_count": 4,
   "id": "da362732",
   "metadata": {},
   "outputs": [
    {
     "data": {
      "text/plain": [
       "builtin_function_or_method"
      ]
     },
     "execution_count": 4,
     "metadata": {},
     "output_type": "execute_result"
    }
   ],
   "source": [
    "type(print)"
   ]
  },
  {
   "cell_type": "code",
   "execution_count": 5,
   "id": "2b05a2f1",
   "metadata": {},
   "outputs": [
    {
     "data": {
      "text/plain": [
       "complex"
      ]
     },
     "execution_count": 5,
     "metadata": {},
     "output_type": "execute_result"
    }
   ],
   "source": [
    "type(3+3j)"
   ]
  },
  {
   "cell_type": "code",
   "execution_count": 6,
   "id": "17bb578d",
   "metadata": {},
   "outputs": [
    {
     "data": {
      "text/plain": [
       "bool"
      ]
     },
     "execution_count": 6,
     "metadata": {},
     "output_type": "execute_result"
    }
   ],
   "source": [
    "type(True)"
   ]
  },
  {
   "cell_type": "markdown",
   "id": "1faf3539",
   "metadata": {},
   "source": [
    "# Q2"
   ]
  },
  {
   "cell_type": "code",
   "execution_count": 7,
   "id": "1f9ff53b",
   "metadata": {},
   "outputs": [
    {
     "data": {
      "text/plain": [
       "True"
      ]
     },
     "execution_count": 7,
     "metadata": {},
     "output_type": "execute_result"
    }
   ],
   "source": [
    "isinstance(10,int)"
   ]
  },
  {
   "cell_type": "code",
   "execution_count": 9,
   "id": "ab0c221e",
   "metadata": {},
   "outputs": [
    {
     "data": {
      "text/plain": [
       "False"
      ]
     },
     "execution_count": 9,
     "metadata": {},
     "output_type": "execute_result"
    }
   ],
   "source": [
    "isinstance(10,float)"
   ]
  },
  {
   "cell_type": "code",
   "execution_count": 10,
   "id": "942e4d2b",
   "metadata": {},
   "outputs": [
    {
     "data": {
      "text/plain": [
       "False"
      ]
     },
     "execution_count": 10,
     "metadata": {},
     "output_type": "execute_result"
    }
   ],
   "source": [
    "isinstance(1,bool)"
   ]
  },
  {
   "cell_type": "code",
   "execution_count": 11,
   "id": "74ad09db",
   "metadata": {},
   "outputs": [
    {
     "data": {
      "text/plain": [
       "False"
      ]
     },
     "execution_count": 11,
     "metadata": {},
     "output_type": "execute_result"
    }
   ],
   "source": [
    "isinstance(0,bool)"
   ]
  },
  {
   "cell_type": "code",
   "execution_count": 12,
   "id": "9902d442",
   "metadata": {},
   "outputs": [
    {
     "data": {
      "text/plain": [
       "False"
      ]
     },
     "execution_count": 12,
     "metadata": {},
     "output_type": "execute_result"
    }
   ],
   "source": [
    "isinstance(78.8,int)"
   ]
  },
  {
   "cell_type": "code",
   "execution_count": 13,
   "id": "dfaef2f6",
   "metadata": {},
   "outputs": [
    {
     "data": {
      "text/plain": [
       "True"
      ]
     },
     "execution_count": 13,
     "metadata": {},
     "output_type": "execute_result"
    }
   ],
   "source": [
    "isinstance(78.8,float)"
   ]
  },
  {
   "cell_type": "code",
   "execution_count": 14,
   "id": "02fa532f",
   "metadata": {},
   "outputs": [
    {
     "data": {
      "text/plain": [
       "False"
      ]
     },
     "execution_count": 14,
     "metadata": {},
     "output_type": "execute_result"
    }
   ],
   "source": [
    "isinstance(78.8,complex)"
   ]
  },
  {
   "cell_type": "code",
   "execution_count": 15,
   "id": "bad4b2ae",
   "metadata": {},
   "outputs": [
    {
     "data": {
      "text/plain": [
       "True"
      ]
     },
     "execution_count": 15,
     "metadata": {},
     "output_type": "execute_result"
    }
   ],
   "source": [
    "isinstance(True,bool)"
   ]
  },
  {
   "cell_type": "markdown",
   "id": "1897ecfd",
   "metadata": {},
   "source": [
    "# Q3"
   ]
  },
  {
   "cell_type": "code",
   "execution_count": 16,
   "id": "3b3e65e8",
   "metadata": {
    "scrolled": true
   },
   "outputs": [
    {
     "name": "stdout",
     "output_type": "stream",
     "text": [
      "Enter the roll no : 45\n",
      "Enter the percentage : 65\n",
      "Enter the complex : 4+3j\n",
      "Enter the roll no Name : shivam muluk\n",
      "You entered roll no as :  45\n",
      "You entered Percentage as :  65.0\n",
      "You entered complex no as :  (4+3j)\n",
      "You entered Name as :  shivam muluk\n"
     ]
    }
   ],
   "source": [
    "roll=int(input(\"Enter the roll no : \"))\n",
    "perct=float(input(\"Enter the percentage : \"))\n",
    "compl=complex(input(\"Enter the complex : \"))\n",
    "name=input(\"Enter the Name : \")\n",
    "print(\"You entered roll no as : \" ,roll)\n",
    "print(\"You entered Percentage as : \", perct)\n",
    "print(\"You entered complex no as : \" ,compl)\n",
    "print(\"You entered Name as : \",name)"
   ]
  },
  {
   "cell_type": "markdown",
   "id": "1300da95",
   "metadata": {},
   "source": [
    "# Q4"
   ]
  },
  {
   "cell_type": "code",
   "execution_count": 61,
   "id": "42ffacd8",
   "metadata": {
    "scrolled": true
   },
   "outputs": [
    {
     "name": "stdout",
     "output_type": "stream",
     "text": [
      "Binary value of 2 is :  0b10\n",
      "Octal value of 2 is : 0o2\n",
      "0x2\n"
     ]
    },
    {
     "ename": "ValueError",
     "evalue": "invalid literal for int() with base 10: '0x2'",
     "output_type": "error",
     "traceback": [
      "\u001b[1;31m---------------------------------------------------------------------------\u001b[0m",
      "\u001b[1;31mValueError\u001b[0m                                Traceback (most recent call last)",
      "Cell \u001b[1;32mIn[61], line 6\u001b[0m\n\u001b[0;32m      4\u001b[0m a \u001b[38;5;241m=\u001b[39m \u001b[38;5;28mhex\u001b[39m(n)\n\u001b[0;32m      5\u001b[0m \u001b[38;5;28mprint\u001b[39m(a)\n\u001b[1;32m----> 6\u001b[0m d\u001b[38;5;241m=\u001b[39m\u001b[38;5;28mint\u001b[39m(a)\n\u001b[0;32m      7\u001b[0m \u001b[38;5;28mprint\u001b[39m(d)\n\u001b[0;32m      8\u001b[0m \u001b[38;5;28mprint\u001b[39m(\u001b[38;5;124m\"\u001b[39m\u001b[38;5;124mHexadecimal value of \u001b[39m\u001b[38;5;132;01m{}\u001b[39;00m\u001b[38;5;124m is : \u001b[39m\u001b[38;5;124m\"\u001b[39m\u001b[38;5;241m.\u001b[39mformat(n),\u001b[38;5;28mhex\u001b[39m(n))\n",
      "\u001b[1;31mValueError\u001b[0m: invalid literal for int() with base 10: '0x2'"
     ]
    }
   ],
   "source": [
    "n=2\n",
    "print(\"Binary value of {} is : \".format(n),bin(n))\n",
    "print(\"Octal value of {} is :\".format(n),oct(n))\n",
    "a = hex(n)\n",
    "print(a)\n",
    "d=int(a)\n",
    "print(d)\n",
    "print(\"Hexadecimal value of {} is : \".format(n),hex(n))\n"
   ]
  },
  {
   "cell_type": "markdown",
   "id": "70f4ca1c",
   "metadata": {},
   "source": [
    "# Q5"
   ]
  },
  {
   "cell_type": "code",
   "execution_count": 28,
   "id": "01475951",
   "metadata": {},
   "outputs": [
    {
     "name": "stdout",
     "output_type": "stream",
     "text": [
      "Integer value of given binary is : 19\n"
     ]
    }
   ],
   "source": [
    "n=0b10011\n",
    "print(\"Integer value of given binary is :\",int(n))"
   ]
  },
  {
   "cell_type": "markdown",
   "id": "84dbf0d9",
   "metadata": {},
   "source": [
    "# Q6"
   ]
  },
  {
   "cell_type": "code",
   "execution_count": 29,
   "id": "1ba03d16",
   "metadata": {},
   "outputs": [
    {
     "name": "stdout",
     "output_type": "stream",
     "text": [
      "Integer value of given octal is : 4105\n"
     ]
    }
   ],
   "source": [
    "n=0o10011\n",
    "print(\"Integer value of given octal is :\",int(n))"
   ]
  },
  {
   "cell_type": "markdown",
   "id": "d2ffee92",
   "metadata": {},
   "source": [
    "# Q7"
   ]
  },
  {
   "cell_type": "code",
   "execution_count": 63,
   "id": "fec81a8e",
   "metadata": {},
   "outputs": [
    {
     "name": "stdout",
     "output_type": "stream",
     "text": [
      "<class 'int'>\n",
      "Integer value of given hexadecimal is : 65553\n"
     ]
    }
   ],
   "source": [
    "n=0x10011\n",
    "print(type(n))\n",
    "print(\"Integer value of given hexadecimal is :\",int(n))"
   ]
  },
  {
   "cell_type": "markdown",
   "id": "df1e6905",
   "metadata": {},
   "source": [
    "# Q8"
   ]
  },
  {
   "cell_type": "code",
   "execution_count": 47,
   "id": "8271f4fa",
   "metadata": {},
   "outputs": [
    {
     "name": "stdout",
     "output_type": "stream",
     "text": [
      "Enter integer to convert to binary : 45\n",
      "0b101101\n",
      "Zeros  2\n",
      "Ones  4\n"
     ]
    }
   ],
   "source": [
    "num=int(input(\"Enter integer to convert to binary : \"))\n",
    "b=bin(num)\n",
    "print(b)\n",
    "a=len(b)\n",
    "ones=0\n",
    "zeros=0\n",
    "for i in range(2,a):\n",
    "    if(int(b[i])==0):\n",
    "        zeros+=1\n",
    "    else:\n",
    "        ones+=1\n",
    "print(\"Zeros \", zeros)\n",
    "print(\"Ones \", ones)\n"
   ]
  },
  {
   "cell_type": "markdown",
   "id": "f2a0892e",
   "metadata": {},
   "source": [
    "# Q9"
   ]
  },
  {
   "cell_type": "code",
   "execution_count": 65,
   "id": "187745bd",
   "metadata": {
    "scrolled": true
   },
   "outputs": [
    {
     "name": "stdout",
     "output_type": "stream",
     "text": [
      "Enter a number :45\n",
      "To Convert to binary enter 1 \n",
      "To Convert to octal enter 2 \n",
      "To Convert to hex enter 3 \n",
      "For exit press Q : \n",
      "Enter your choice : Q\n"
     ]
    }
   ],
   "source": [
    "\n",
    "flag = True\n",
    "while flag:\n",
    "    num=int(input(\"Enter a number :\"))\n",
    "    print(\"To Convert to binary enter 1 \")\n",
    "    print(\"To Convert to octal enter 2 \")\n",
    "    print(\"To Convert to hex enter 3 \")\n",
    "    print(\"For exit press Q : \")\n",
    "    fl=input(\"Enter your choice : \")\n",
    "    if fl =='q' or fl =='Q':\n",
    "        fl = False\n",
    "        flag = fl\n",
    "    elif fl == '1':\n",
    "        print(\"binary value of given integer is :\",bin(num))  \n",
    "    elif fl == '2':\n",
    "        print(\"octal value of given integer is :\",oct(num))\n",
    "    elif fl == '3':\n",
    "        print(\"hexadecimal value of given integer is :\",hex(num))\n",
    "    else:\n",
    "        print(\"Enter valid choice\")\n",
    "    \n",
    "    \n",
    "    \n",
    "    "
   ]
  },
  {
   "cell_type": "markdown",
   "id": "29e574c7",
   "metadata": {},
   "source": [
    "# Q10"
   ]
  },
  {
   "cell_type": "code",
   "execution_count": 66,
   "id": "4e06a16f",
   "metadata": {},
   "outputs": [
    {
     "name": "stdout",
     "output_type": "stream",
     "text": [
      "a) False\n",
      "b) False\n",
      "c) True\n",
      "d) False\n",
      "e) False\n",
      "f) False\n",
      "g) True\n",
      "h) True\n",
      "i) True\n",
      "j) True\n",
      "k) True\n",
      "l) True\n",
      "m) False\n",
      "n) True\n"
     ]
    }
   ],
   "source": [
    "print('a)',bool(''))\n",
    "print('b)',bool(0))\n",
    "print('c)',bool(0.09))\n",
    "print('d)',bool([]))\n",
    "print('e)',bool(range(0)))\n",
    "print('f)',bool(None))\n",
    "print('g)',bool(0+0.1j))\n",
    "print('h)',bool(-10))\n",
    "print('i)',bool(-9.6))\n",
    "print('j)',bool('ABCKL'))\n",
    "print('k)',bool('-'))\n",
    "print('l)',bool('False'))\n",
    "print('m)',bool(False))\n",
    "print('n)',bool('None'))\n"
   ]
  },
  {
   "cell_type": "markdown",
   "id": "54089499",
   "metadata": {},
   "source": [
    "Q11. Find the size of x when x is given following values\n",
    "Hint : Size of object can be found by sys.getsizeof() function\n",
    "a. x=0 \n",
    "Check what is size of x\n",
    "b. x=1 \n",
    "Check what is size of x\n",
    "c. x=2 ** 20\n",
    "Check what is size of x\n",
    "d. x=2 ** 32\n",
    "Check what is size of x\n",
    "e. x=2 ** 60 \n",
    "Check what is size of x"
   ]
  },
  {
   "cell_type": "code",
   "execution_count": 6,
   "id": "a4110ec4",
   "metadata": {},
   "outputs": [
    {
     "name": "stdout",
     "output_type": "stream",
     "text": [
      "28\n",
      "28\n",
      "28\n",
      "32\n",
      "36\n"
     ]
    }
   ],
   "source": [
    "import sys\n",
    "x=0 \n",
    "print(sys.getsizeof(x))\n",
    "x=1\n",
    "print(sys.getsizeof(x))\n",
    "x=2 ** 20\n",
    "print(sys.getsizeof(x))\n",
    "x=2 ** 32\n",
    "print(sys.getsizeof(x))\n",
    "x=2 ** 60\n",
    "print(sys.getsizeof(x))\n"
   ]
  },
  {
   "cell_type": "markdown",
   "id": "10b9dd78",
   "metadata": {},
   "source": []
  },
  {
   "cell_type": "code",
   "execution_count": null,
   "id": "567be4dc",
   "metadata": {},
   "outputs": [],
   "source": []
  },
  {
   "cell_type": "code",
   "execution_count": null,
   "id": "918998fc",
   "metadata": {},
   "outputs": [],
   "source": []
  },
  {
   "cell_type": "code",
   "execution_count": null,
   "id": "c7f2a202",
   "metadata": {},
   "outputs": [],
   "source": []
  }
 ],
 "metadata": {
  "kernelspec": {
   "display_name": "Python 3 (ipykernel)",
   "language": "python",
   "name": "python3"
  },
  "language_info": {
   "codemirror_mode": {
    "name": "ipython",
    "version": 3
   },
   "file_extension": ".py",
   "mimetype": "text/x-python",
   "name": "python",
   "nbconvert_exporter": "python",
   "pygments_lexer": "ipython3",
   "version": "3.11.4"
  }
 },
 "nbformat": 4,
 "nbformat_minor": 5
}
